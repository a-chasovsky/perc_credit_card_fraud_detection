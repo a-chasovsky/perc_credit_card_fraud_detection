{
 "cells": [
  {
   "cell_type": "markdown",
   "id": "679dc91d-4813-4d37-bf85-dd07f5d4f7ef",
   "metadata": {},
   "source": [
    "### Primary Parameters for Models"
   ]
  },
  {
   "cell_type": "code",
   "execution_count": 7,
   "id": "b38456b6-f14a-4b1e-af8b-f44e8f4be489",
   "metadata": {},
   "outputs": [],
   "source": [
    "n_folds = 4 # 4 fold for prequential validation"
   ]
  },
  {
   "cell_type": "code",
   "execution_count": null,
   "id": "755da734-629c-4df8-a777-166ce0860929",
   "metadata": {},
   "outputs": [],
   "source": [
    "train_start = dt.datetime.strptime('2022-08-25', '%Y-%m-%d')\n",
    "\n",
    "(delta_train,\n",
    " delta_delay,\n",
    " delta_test,\n",
    " delta_valid,\n",
    " delta_assessment) = (7,) * 5\n",
    "\n",
    "train_valid_delta = dt.timedelta(days=-(delta_delay+delta_valid))\n",
    "train_test_delta = dt.timedelta(days=(n_folds-1)*delta_test)\n",
    "\n",
    "train_start_valid = train_start + train_valid_delta\n",
    "train_start_test = train_start + train_test_delta"
   ]
  },
  {
   "cell_type": "code",
   "execution_count": null,
   "id": "2aac6296-c04d-4098-a0b2-ea414900d887",
   "metadata": {},
   "outputs": [],
   "source": [
    "n_jobs=-1"
   ]
  },
  {
   "cell_type": "markdown",
   "id": "22036703-1c80-4a83-8c53-5bfe3d18d7f3",
   "metadata": {},
   "source": [
    "### Scorer"
   ]
  },
  {
   "cell_type": "code",
   "execution_count": null,
   "id": "891aec49-b980-4c01-a8c6-1482dd399c32",
   "metadata": {},
   "outputs": [],
   "source": [
    "scorer = data[['customer_id', 'tx_fraud','tx_time_days']]\n",
    "\n",
    "card_precision_top_100 = make_scorer(card_precision_top_k_custom,\n",
    "                                     needs_proba=True,\n",
    "                                     top_k=100,\n",
    "                                     data=scorer)"
   ]
  },
  {
   "cell_type": "markdown",
   "id": "78198256-8830-4caa-a445-89c3787ecfc7",
   "metadata": {},
   "source": [
    "### Metrics"
   ]
  },
  {
   "cell_type": "code",
   "execution_count": null,
   "id": "1cbcd76e-e6b7-4dfa-bb82-2d2c8623ca0c",
   "metadata": {},
   "outputs": [],
   "source": [
    "metrics = [\n",
    "    'AUC ROC',\n",
    "    'Average Precision',\n",
    "    'Card Precision@100'\n",
    "]\n",
    "\n",
    "metrics_grid = [\n",
    "    'roc_auc',\n",
    "    'average_precision',\n",
    "    'card_precision@100'\n",
    "]\n",
    "\n",
    "scoring = {\n",
    "    'roc_auc':'roc_auc',\n",
    "    'card_precision@100': card_precision_top_100,\n",
    "    'average_precision': 'average_precision'\n",
    "}\n",
    "\n",
    "subsets = ['Test', 'Validation']"
   ]
  },
  {
   "cell_type": "code",
   "execution_count": null,
   "id": "6d850a75-fdaf-434c-98b7-fce4f2f8284f",
   "metadata": {},
   "outputs": [],
   "source": [
    "majority_fraction = (data[target].count() - data[target].sum()) / data[target].count()\n",
    "minority_fraction = data[target].sum() / data[target].count()\n",
    "\n",
    "ir = minority_fraction / majority_fraction"
   ]
  },
  {
   "cell_type": "code",
   "execution_count": null,
   "id": "53cdc985-2bc5-4082-a830-489810703b1f",
   "metadata": {},
   "outputs": [],
   "source": [
    "# check\n",
    "majority_fraction + minority_fraction"
   ]
  }
 ],
 "metadata": {
  "kernelspec": {
   "display_name": "Python 3 (ipykernel)",
   "language": "python",
   "name": "python3"
  },
  "language_info": {
   "codemirror_mode": {
    "name": "ipython",
    "version": 3
   },
   "file_extension": ".py",
   "mimetype": "text/x-python",
   "name": "python",
   "nbconvert_exporter": "python",
   "pygments_lexer": "ipython3",
   "version": "3.11.4"
  }
 },
 "nbformat": 4,
 "nbformat_minor": 5
}
