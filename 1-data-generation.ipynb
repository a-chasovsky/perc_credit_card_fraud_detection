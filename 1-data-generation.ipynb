{
 "cells": [
  {
   "cell_type": "code",
   "execution_count": 1,
   "id": "272a36aa-9c34-4762-a714-410ca98d3eac",
   "metadata": {},
   "outputs": [],
   "source": [
    "import time \n",
    "t_script = time.time()"
   ]
  },
  {
   "cell_type": "markdown",
   "id": "8a00a5e7-30c0-4f47-a3a7-bef1b2cd57db",
   "metadata": {},
   "source": [
    "### Load libraries, functions, palette, theme"
   ]
  },
  {
   "cell_type": "code",
   "execution_count": 2,
   "id": "8a3634ef-f538-4009-b7b2-b07dc2d872ce",
   "metadata": {},
   "outputs": [],
   "source": [
    "%run __libraries.ipynb"
   ]
  },
  {
   "cell_type": "code",
   "execution_count": 3,
   "id": "34ac608e-724f-404e-a4e5-fbdc383b5aa5",
   "metadata": {},
   "outputs": [],
   "source": [
    "%run __functions.ipynb"
   ]
  },
  {
   "cell_type": "markdown",
   "id": "26460c55-e652-4ab7-b353-a7a616f8ddc2",
   "metadata": {},
   "source": [
    "## Dataset Generation"
   ]
  },
  {
   "cell_type": "markdown",
   "id": "8fdeceba-8302-4d79-81d1-43afb829268f",
   "metadata": {},
   "source": [
    "### Generate Data"
   ]
  },
  {
   "cell_type": "code",
   "execution_count": 4,
   "id": "19d18b27-d50c-46be-9e83-20d72dfdbf86",
   "metadata": {},
   "outputs": [],
   "source": [
    "start_date = '2022-05-02'"
   ]
  },
  {
   "cell_type": "code",
   "execution_count": 5,
   "id": "1450ed99-79e3-474b-b395-bb32484a10d2",
   "metadata": {},
   "outputs": [],
   "source": [
    "customers, terminals, data = generate_dataset(\n",
    "    start_date=start_date,\n",
    "    random_state=seed,\n",
    "    n_customers=5000, \n",
    "    n_terminals=10000, \n",
    "    nb_days=217, \n",
    "    r=5\n",
    ")"
   ]
  },
  {
   "cell_type": "code",
   "execution_count": 6,
   "id": "b84a1b4d-26c6-4491-b3a0-e98f5d9db546",
   "metadata": {},
   "outputs": [],
   "source": [
    "data = add_frauds(customers, terminals, data)"
   ]
  },
  {
   "cell_type": "code",
   "execution_count": 7,
   "id": "3da1ef55-1452-4ca6-a593-458255cf3c95",
   "metadata": {},
   "outputs": [
    {
     "data": {
      "text/html": [
       "<div>\n",
       "<style scoped>\n",
       "    .dataframe tbody tr th:only-of-type {\n",
       "        vertical-align: middle;\n",
       "    }\n",
       "\n",
       "    .dataframe tbody tr th {\n",
       "        vertical-align: top;\n",
       "    }\n",
       "\n",
       "    .dataframe thead th {\n",
       "        text-align: right;\n",
       "    }\n",
       "</style>\n",
       "<table border=\"1\" class=\"dataframe\">\n",
       "  <thead>\n",
       "    <tr style=\"text-align: right;\">\n",
       "      <th></th>\n",
       "      <th>transaction_id</th>\n",
       "      <th>tx_datetime</th>\n",
       "      <th>customer_id</th>\n",
       "      <th>terminal_id</th>\n",
       "      <th>tx_amount</th>\n",
       "      <th>tx_time_seconds</th>\n",
       "      <th>tx_time_days</th>\n",
       "      <th>tx_fraud</th>\n",
       "      <th>tx_fraud_scenario</th>\n",
       "    </tr>\n",
       "  </thead>\n",
       "  <tbody>\n",
       "    <tr>\n",
       "      <th>0</th>\n",
       "      <td>0</td>\n",
       "      <td>2022-05-02 00:00:31</td>\n",
       "      <td>1829</td>\n",
       "      <td>2355</td>\n",
       "      <td>22.35</td>\n",
       "      <td>31</td>\n",
       "      <td>0</td>\n",
       "      <td>0</td>\n",
       "      <td>0</td>\n",
       "    </tr>\n",
       "    <tr>\n",
       "      <th>1</th>\n",
       "      <td>1</td>\n",
       "      <td>2022-05-02 00:01:59</td>\n",
       "      <td>157</td>\n",
       "      <td>7040</td>\n",
       "      <td>9.53</td>\n",
       "      <td>119</td>\n",
       "      <td>0</td>\n",
       "      <td>0</td>\n",
       "      <td>0</td>\n",
       "    </tr>\n",
       "    <tr>\n",
       "      <th>2</th>\n",
       "      <td>2</td>\n",
       "      <td>2022-05-02 00:02:29</td>\n",
       "      <td>834</td>\n",
       "      <td>2170</td>\n",
       "      <td>82.26</td>\n",
       "      <td>149</td>\n",
       "      <td>0</td>\n",
       "      <td>0</td>\n",
       "      <td>0</td>\n",
       "    </tr>\n",
       "    <tr>\n",
       "      <th>3</th>\n",
       "      <td>3</td>\n",
       "      <td>2022-05-02 00:04:47</td>\n",
       "      <td>2845</td>\n",
       "      <td>8301</td>\n",
       "      <td>25.29</td>\n",
       "      <td>287</td>\n",
       "      <td>0</td>\n",
       "      <td>0</td>\n",
       "      <td>0</td>\n",
       "    </tr>\n",
       "    <tr>\n",
       "      <th>4</th>\n",
       "      <td>4</td>\n",
       "      <td>2022-05-02 00:07:04</td>\n",
       "      <td>1565</td>\n",
       "      <td>9269</td>\n",
       "      <td>31.69</td>\n",
       "      <td>424</td>\n",
       "      <td>0</td>\n",
       "      <td>0</td>\n",
       "      <td>0</td>\n",
       "    </tr>\n",
       "  </tbody>\n",
       "</table>\n",
       "</div>"
      ],
      "text/plain": [
       "   transaction_id         tx_datetime customer_id terminal_id  tx_amount  \\\n",
       "0               0 2022-05-02 00:00:31        1829        2355      22.35   \n",
       "1               1 2022-05-02 00:01:59         157        7040       9.53   \n",
       "2               2 2022-05-02 00:02:29         834        2170      82.26   \n",
       "3               3 2022-05-02 00:04:47        2845        8301      25.29   \n",
       "4               4 2022-05-02 00:07:04        1565        9269      31.69   \n",
       "\n",
       "  tx_time_seconds tx_time_days  tx_fraud  tx_fraud_scenario  \n",
       "0              31            0         0                  0  \n",
       "1             119            0         0                  0  \n",
       "2             149            0         0                  0  \n",
       "3             287            0         0                  0  \n",
       "4             424            0         0                  0  "
      ]
     },
     "execution_count": 7,
     "metadata": {},
     "output_type": "execute_result"
    }
   ],
   "source": [
    "data.head()"
   ]
  },
  {
   "cell_type": "code",
   "execution_count": 8,
   "id": "9f7145b1-0d51-4003-b3c6-4c4923d47516",
   "metadata": {},
   "outputs": [
    {
     "data": {
      "text/plain": [
       "(2107260, 9)"
      ]
     },
     "execution_count": 8,
     "metadata": {},
     "output_type": "execute_result"
    }
   ],
   "source": [
    "data.shape"
   ]
  },
  {
   "cell_type": "code",
   "execution_count": 9,
   "id": "5857d0d0-2f5c-4c64-be88-0e420d5079ba",
   "metadata": {},
   "outputs": [
    {
     "data": {
      "text/plain": [
       "17752"
      ]
     },
     "execution_count": 9,
     "metadata": {},
     "output_type": "execute_result"
    }
   ],
   "source": [
    "data['tx_fraud'].sum()"
   ]
  },
  {
   "cell_type": "code",
   "execution_count": 10,
   "id": "84702d3e-9e95-4b22-91ad-9c4c26b1cbb9",
   "metadata": {},
   "outputs": [
    {
     "data": {
      "text/plain": [
       "0.8424209637159153"
      ]
     },
     "execution_count": 10,
     "metadata": {},
     "output_type": "execute_result"
    }
   ],
   "source": [
    "data['tx_fraud'].sum() / len(data['tx_fraud']) * 100"
   ]
  },
  {
   "cell_type": "code",
   "execution_count": 11,
   "id": "a8b96185-570a-41ca-9538-6d463b25c558",
   "metadata": {},
   "outputs": [],
   "source": [
    "DIR_OUTPUT = './data/'\n",
    "\n",
    "if not os.path.exists(DIR_OUTPUT):\n",
    "    os.makedirs(DIR_OUTPUT)\n",
    "\n",
    "start_date = dt.datetime.strptime(start_date, '%Y-%m-%d')\n",
    "\n",
    "for day in range(data['tx_time_days'].max()+1):\n",
    "    \n",
    "    transactions_day = data[data['tx_time_days']==day].sort_values('tx_time_seconds')\n",
    "    \n",
    "    date = start_date + dt.timedelta(days=day)\n",
    "    filename_output = date.strftime('%Y-%m-%d')+'.pkl'\n",
    "    \n",
    "    # Protocol=4 required for Google Colab\n",
    "    transactions_day.to_pickle(DIR_OUTPUT+filename_output, protocol=4)"
   ]
  },
  {
   "cell_type": "markdown",
   "id": "7102a8ec-5185-4a18-8f95-b961c0685318",
   "metadata": {},
   "source": [
    "### Transform Data"
   ]
  },
  {
   "cell_type": "markdown",
   "id": "ba3a7f7d-1038-41c4-b9e4-4cd276f46ce0",
   "metadata": {},
   "source": [
    "#### Load Data"
   ]
  },
  {
   "cell_type": "code",
   "execution_count": 12,
   "id": "a7b63ea4-e195-4ab1-958c-1d2a79b18a8d",
   "metadata": {},
   "outputs": [],
   "source": [
    "start_date = '2022-05-02'\n",
    "end_date = '2022-11-30'"
   ]
  },
  {
   "cell_type": "code",
   "execution_count": 13,
   "id": "c311807c-33f1-4fac-b743-bfbb6a93bb23",
   "metadata": {},
   "outputs": [],
   "source": [
    "data = read_from_files(\n",
    "    DIR_INPUT = './data/',\n",
    "    BEGIN_DATE = start_date,\n",
    "    END_DATE = end_date,\n",
    "    sort='transaction_id'\n",
    ")"
   ]
  },
  {
   "cell_type": "code",
   "execution_count": 14,
   "id": "532c9030-a4b3-42c5-90d5-00247cb30595",
   "metadata": {},
   "outputs": [],
   "source": [
    "data['tx_during_weekend'] = data['tx_datetime'].apply(is_weekend)\n",
    "data['tx_during_night'] = data['tx_datetime'].apply(is_night)"
   ]
  },
  {
   "cell_type": "code",
   "execution_count": 15,
   "id": "11c25a48-4033-4b17-b679-ac5f6fd5db7c",
   "metadata": {},
   "outputs": [],
   "source": [
    "data = (data.groupby('customer_id')\n",
    "            .apply(lambda x: get_customer_spending_behaviour_features(\n",
    "                x, windows_size_in_days=[1,7,30]\n",
    "            )))\n",
    "\n",
    "data = data.sort_values('tx_datetime').reset_index(drop=True)"
   ]
  },
  {
   "cell_type": "code",
   "execution_count": 16,
   "id": "ec5ab027-7e40-4c33-bbb9-2f36de15beee",
   "metadata": {},
   "outputs": [],
   "source": [
    "data = (data.groupby('terminal_id')\n",
    "            .apply(lambda x: get_count_risk_rolling_window(\n",
    "                x, delay_period=7, windows_size_in_days=[1,7,30],\n",
    "                feature='terminal_id'\n",
    "            )))\n",
    "\n",
    "data = data.sort_values('tx_datetime').reset_index(drop=True)"
   ]
  },
  {
   "cell_type": "code",
   "execution_count": 17,
   "id": "f6a7ca65-a3c0-43db-b561-c572b8d9270d",
   "metadata": {},
   "outputs": [
    {
     "data": {
      "text/html": [
       "<div>\n",
       "<style scoped>\n",
       "    .dataframe tbody tr th:only-of-type {\n",
       "        vertical-align: middle;\n",
       "    }\n",
       "\n",
       "    .dataframe tbody tr th {\n",
       "        vertical-align: top;\n",
       "    }\n",
       "\n",
       "    .dataframe thead th {\n",
       "        text-align: right;\n",
       "    }\n",
       "</style>\n",
       "<table border=\"1\" class=\"dataframe\">\n",
       "  <thead>\n",
       "    <tr style=\"text-align: right;\">\n",
       "      <th></th>\n",
       "      <th>transaction_id</th>\n",
       "      <th>tx_datetime</th>\n",
       "      <th>customer_id</th>\n",
       "      <th>terminal_id</th>\n",
       "      <th>tx_amount</th>\n",
       "      <th>tx_time_seconds</th>\n",
       "      <th>tx_time_days</th>\n",
       "      <th>tx_fraud</th>\n",
       "      <th>tx_fraud_scenario</th>\n",
       "      <th>tx_during_weekend</th>\n",
       "      <th>...</th>\n",
       "      <th>customer_id_nb_tx_7day_window</th>\n",
       "      <th>customer_id_avg_amount_7day_window</th>\n",
       "      <th>customer_id_nb_tx_30day_window</th>\n",
       "      <th>customer_id_avg_amount_30day_window</th>\n",
       "      <th>terminal_id_nb_tx_1day_window</th>\n",
       "      <th>terminal_id_risk_1day_window</th>\n",
       "      <th>terminal_id_nb_tx_7day_window</th>\n",
       "      <th>terminal_id_risk_7day_window</th>\n",
       "      <th>terminal_id_nb_tx_30day_window</th>\n",
       "      <th>terminal_id_risk_30day_window</th>\n",
       "    </tr>\n",
       "  </thead>\n",
       "  <tbody>\n",
       "    <tr>\n",
       "      <th>0</th>\n",
       "      <td>0</td>\n",
       "      <td>2022-05-02 00:00:31</td>\n",
       "      <td>1829</td>\n",
       "      <td>2355</td>\n",
       "      <td>22.35</td>\n",
       "      <td>31</td>\n",
       "      <td>0</td>\n",
       "      <td>0</td>\n",
       "      <td>0</td>\n",
       "      <td>0</td>\n",
       "      <td>...</td>\n",
       "      <td>1.0</td>\n",
       "      <td>22.35</td>\n",
       "      <td>1.0</td>\n",
       "      <td>22.35</td>\n",
       "      <td>0.0</td>\n",
       "      <td>0.0</td>\n",
       "      <td>0.0</td>\n",
       "      <td>0.0</td>\n",
       "      <td>0.0</td>\n",
       "      <td>0.0</td>\n",
       "    </tr>\n",
       "    <tr>\n",
       "      <th>1</th>\n",
       "      <td>1</td>\n",
       "      <td>2022-05-02 00:01:59</td>\n",
       "      <td>157</td>\n",
       "      <td>7040</td>\n",
       "      <td>9.53</td>\n",
       "      <td>119</td>\n",
       "      <td>0</td>\n",
       "      <td>0</td>\n",
       "      <td>0</td>\n",
       "      <td>0</td>\n",
       "      <td>...</td>\n",
       "      <td>1.0</td>\n",
       "      <td>9.53</td>\n",
       "      <td>1.0</td>\n",
       "      <td>9.53</td>\n",
       "      <td>0.0</td>\n",
       "      <td>0.0</td>\n",
       "      <td>0.0</td>\n",
       "      <td>0.0</td>\n",
       "      <td>0.0</td>\n",
       "      <td>0.0</td>\n",
       "    </tr>\n",
       "    <tr>\n",
       "      <th>2</th>\n",
       "      <td>2</td>\n",
       "      <td>2022-05-02 00:02:29</td>\n",
       "      <td>834</td>\n",
       "      <td>2170</td>\n",
       "      <td>82.26</td>\n",
       "      <td>149</td>\n",
       "      <td>0</td>\n",
       "      <td>0</td>\n",
       "      <td>0</td>\n",
       "      <td>0</td>\n",
       "      <td>...</td>\n",
       "      <td>1.0</td>\n",
       "      <td>82.26</td>\n",
       "      <td>1.0</td>\n",
       "      <td>82.26</td>\n",
       "      <td>0.0</td>\n",
       "      <td>0.0</td>\n",
       "      <td>0.0</td>\n",
       "      <td>0.0</td>\n",
       "      <td>0.0</td>\n",
       "      <td>0.0</td>\n",
       "    </tr>\n",
       "    <tr>\n",
       "      <th>3</th>\n",
       "      <td>3</td>\n",
       "      <td>2022-05-02 00:04:47</td>\n",
       "      <td>2845</td>\n",
       "      <td>8301</td>\n",
       "      <td>25.29</td>\n",
       "      <td>287</td>\n",
       "      <td>0</td>\n",
       "      <td>0</td>\n",
       "      <td>0</td>\n",
       "      <td>0</td>\n",
       "      <td>...</td>\n",
       "      <td>1.0</td>\n",
       "      <td>25.29</td>\n",
       "      <td>1.0</td>\n",
       "      <td>25.29</td>\n",
       "      <td>0.0</td>\n",
       "      <td>0.0</td>\n",
       "      <td>0.0</td>\n",
       "      <td>0.0</td>\n",
       "      <td>0.0</td>\n",
       "      <td>0.0</td>\n",
       "    </tr>\n",
       "    <tr>\n",
       "      <th>4</th>\n",
       "      <td>4</td>\n",
       "      <td>2022-05-02 00:07:04</td>\n",
       "      <td>1565</td>\n",
       "      <td>9269</td>\n",
       "      <td>31.69</td>\n",
       "      <td>424</td>\n",
       "      <td>0</td>\n",
       "      <td>0</td>\n",
       "      <td>0</td>\n",
       "      <td>0</td>\n",
       "      <td>...</td>\n",
       "      <td>1.0</td>\n",
       "      <td>31.69</td>\n",
       "      <td>1.0</td>\n",
       "      <td>31.69</td>\n",
       "      <td>0.0</td>\n",
       "      <td>0.0</td>\n",
       "      <td>0.0</td>\n",
       "      <td>0.0</td>\n",
       "      <td>0.0</td>\n",
       "      <td>0.0</td>\n",
       "    </tr>\n",
       "  </tbody>\n",
       "</table>\n",
       "<p>5 rows × 23 columns</p>\n",
       "</div>"
      ],
      "text/plain": [
       "   transaction_id         tx_datetime  customer_id  terminal_id  tx_amount  \\\n",
       "0               0 2022-05-02 00:00:31         1829         2355      22.35   \n",
       "1               1 2022-05-02 00:01:59          157         7040       9.53   \n",
       "2               2 2022-05-02 00:02:29          834         2170      82.26   \n",
       "3               3 2022-05-02 00:04:47         2845         8301      25.29   \n",
       "4               4 2022-05-02 00:07:04         1565         9269      31.69   \n",
       "\n",
       "   tx_time_seconds  tx_time_days  tx_fraud  tx_fraud_scenario  \\\n",
       "0               31             0         0                  0   \n",
       "1              119             0         0                  0   \n",
       "2              149             0         0                  0   \n",
       "3              287             0         0                  0   \n",
       "4              424             0         0                  0   \n",
       "\n",
       "   tx_during_weekend  ...  customer_id_nb_tx_7day_window  \\\n",
       "0                  0  ...                            1.0   \n",
       "1                  0  ...                            1.0   \n",
       "2                  0  ...                            1.0   \n",
       "3                  0  ...                            1.0   \n",
       "4                  0  ...                            1.0   \n",
       "\n",
       "   customer_id_avg_amount_7day_window  customer_id_nb_tx_30day_window  \\\n",
       "0                               22.35                             1.0   \n",
       "1                                9.53                             1.0   \n",
       "2                               82.26                             1.0   \n",
       "3                               25.29                             1.0   \n",
       "4                               31.69                             1.0   \n",
       "\n",
       "   customer_id_avg_amount_30day_window  terminal_id_nb_tx_1day_window  \\\n",
       "0                                22.35                            0.0   \n",
       "1                                 9.53                            0.0   \n",
       "2                                82.26                            0.0   \n",
       "3                                25.29                            0.0   \n",
       "4                                31.69                            0.0   \n",
       "\n",
       "   terminal_id_risk_1day_window  terminal_id_nb_tx_7day_window  \\\n",
       "0                           0.0                            0.0   \n",
       "1                           0.0                            0.0   \n",
       "2                           0.0                            0.0   \n",
       "3                           0.0                            0.0   \n",
       "4                           0.0                            0.0   \n",
       "\n",
       "   terminal_id_risk_7day_window  terminal_id_nb_tx_30day_window  \\\n",
       "0                           0.0                             0.0   \n",
       "1                           0.0                             0.0   \n",
       "2                           0.0                             0.0   \n",
       "3                           0.0                             0.0   \n",
       "4                           0.0                             0.0   \n",
       "\n",
       "   terminal_id_risk_30day_window  \n",
       "0                            0.0  \n",
       "1                            0.0  \n",
       "2                            0.0  \n",
       "3                            0.0  \n",
       "4                            0.0  \n",
       "\n",
       "[5 rows x 23 columns]"
      ]
     },
     "execution_count": 17,
     "metadata": {},
     "output_type": "execute_result"
    }
   ],
   "source": [
    "data.head()"
   ]
  },
  {
   "cell_type": "code",
   "execution_count": 18,
   "id": "49c92814-d404-4c13-ab9b-756e14279f57",
   "metadata": {},
   "outputs": [],
   "source": [
    "DIR_OUTPUT = './data-transformed/'\n",
    "\n",
    "if not os.path.exists(DIR_OUTPUT):\n",
    "    os.makedirs(DIR_OUTPUT)\n",
    "\n",
    "start_date = dt.datetime.strptime(start_date, '%Y-%m-%d')\n",
    "\n",
    "for day in range(data['tx_time_days'].max()+1):\n",
    "    \n",
    "    transactions_day = data[data['tx_time_days']==day].sort_values('tx_time_seconds')\n",
    "    \n",
    "    date = start_date + dt.timedelta(days=day)\n",
    "    filename_output = date.strftime('%Y-%m-%d')+'.pkl'\n",
    "    \n",
    "    # Protocol=4 required for Google Colab\n",
    "    transactions_day.to_pickle(DIR_OUTPUT+filename_output, protocol=4)"
   ]
  },
  {
   "cell_type": "code",
   "execution_count": 19,
   "id": "d84b4ad5-7cb5-4bde-8354-7b4fbccffe95",
   "metadata": {},
   "outputs": [
    {
     "name": "stdout",
     "output_type": "stream",
     "text": [
      "Execution time: 0:19:31\n"
     ]
    }
   ],
   "source": [
    "e_time = time.time() - t_script\n",
    "e_time_format = str(dt.timedelta(seconds=np.round(e_time)))\n",
    "print('Execution time: {}'.format(e_time_format))"
   ]
  }
 ],
 "metadata": {
  "kernelspec": {
   "display_name": "Python 3 (ipykernel)",
   "language": "python",
   "name": "python3"
  },
  "language_info": {
   "codemirror_mode": {
    "name": "ipython",
    "version": 3
   },
   "file_extension": ".py",
   "mimetype": "text/x-python",
   "name": "python",
   "nbconvert_exporter": "python",
   "pygments_lexer": "ipython3",
   "version": "3.11.4"
  }
 },
 "nbformat": 4,
 "nbformat_minor": 5
}
