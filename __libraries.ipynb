{
 "cells": [
  {
   "cell_type": "code",
   "execution_count": 1,
   "id": "2fa90f6b-b442-47ba-9b21-f28cf8c9f775",
   "metadata": {},
   "outputs": [],
   "source": [
    "import numpy as np\n",
    "import pandas as pd\n",
    "import sklearn as sk\n",
    "import matplotlib\n",
    "import matplotlib.pyplot as plt\n",
    "import seaborn as sns\n",
    "import imblearn\n",
    "import xgboost\n",
    "import lightgbm as lgb\n",
    "import torch\n",
    "import datetime as dt\n",
    "import random\n",
    "import time\n",
    "import os\n",
    "import pickle\n",
    "import ast\n",
    "import dataframe_image as dfi\n",
    "\n",
    "import matplotlib.lines as mlines\n",
    "from matplotlib.patches import Rectangle\n",
    "\n",
    "from scipy.interpolate import make_interp_spline, BSpline\n",
    "\n",
    "from sklearn.metrics import make_scorer\n",
    "\n",
    "from imblearn.over_sampling import SMOTE\n",
    "from imblearn.under_sampling import RandomUnderSampler\n",
    "from sklearn.preprocessing import StandardScaler\n",
    "\n",
    "from sklearn.model_selection import GridSearchCV\n",
    "from sklearn.model_selection import RandomizedSearchCV\n",
    "\n",
    "from sklearn.linear_model import LogisticRegression\n",
    "from sklearn.tree import DecisionTreeClassifier\n",
    "from sklearn.ensemble import BaggingClassifier\n",
    "from sklearn.ensemble import RandomForestClassifier\n",
    "from imblearn.ensemble import BalancedBaggingClassifier\n",
    "from xgboost import XGBClassifier\n",
    "from lightgbm import LGBMClassifier\n",
    "import torch.nn.functional as F\n",
    "from skorch import NeuralNetClassifier\n",
    "\n",
    "from imblearn.pipeline import Pipeline\n",
    "\n",
    "from sklearn.metrics import average_precision_score\n",
    "from sklearn.metrics import roc_curve\n",
    "from sklearn.metrics import auc\n",
    "from sklearn.metrics import precision_recall_curve\n",
    "from sklearn.metrics import precision_score, recall_score, f1_score\n",
    "from sklearn.metrics import confusion_matrix"
   ]
  },
  {
   "cell_type": "code",
   "execution_count": 2,
   "id": "55d8585b-cfeb-418e-b6db-859d2c4bada2",
   "metadata": {},
   "outputs": [],
   "source": [
    "if torch.cuda.is_available():\n",
    "    DEVICE = \"cuda\" \n",
    "else:\n",
    "    DEVICE = \"cpu\""
   ]
  },
  {
   "cell_type": "code",
   "execution_count": 3,
   "id": "e859163e-1c6b-45fa-b772-05dcc3bd899f",
   "metadata": {},
   "outputs": [],
   "source": [
    "palette = sns.color_palette([\n",
    "    '#4682b4', '#AF4035', '#00937F', '#FFA500', '#7B5141',\n",
    "    '#B86A84', '#5B3256', '#2E3876', '#587B7F', '#006D6F',\n",
    "    '#A7CBE8', '#6D9BC3', '#4D7DA8', '#3D6384', '#304E68',\n",
    "    '#AAAAAA', '#808080', '#707070', '#606060', '#505050'\n",
    "])\n",
    "\n",
    "corr_matrix = sns.color_palette('blend:#5691C4,#FFFFFF,#BA160C', as_cmap=True)\n",
    "report = sns.color_palette('blend:#E6E9EC,#FFFFFF,#9E2A2B', as_cmap=True)\n",
    "gradient = sns.color_palette('blend:#FFFFFF,#3D6384', as_cmap=True)\n",
    "pairplot = sns.color_palette(['#8DB4D7', '#AF4035'])"
   ]
  },
  {
   "cell_type": "code",
   "execution_count": 4,
   "id": "14e5e175-3143-45f5-afc5-1096e5d3debc",
   "metadata": {},
   "outputs": [
    {
     "data": {
      "text/html": [
       "<svg  width=\"275\" height=\"55\"><rect x=\"0\" y=\"0\" width=\"55\" height=\"55\" style=\"fill:#4682b4;stroke-width:2;stroke:rgb(255,255,255)\"/><rect x=\"55\" y=\"0\" width=\"55\" height=\"55\" style=\"fill:#af4035;stroke-width:2;stroke:rgb(255,255,255)\"/><rect x=\"110\" y=\"0\" width=\"55\" height=\"55\" style=\"fill:#00937f;stroke-width:2;stroke:rgb(255,255,255)\"/><rect x=\"165\" y=\"0\" width=\"55\" height=\"55\" style=\"fill:#ffa500;stroke-width:2;stroke:rgb(255,255,255)\"/><rect x=\"220\" y=\"0\" width=\"55\" height=\"55\" style=\"fill:#7b5141;stroke-width:2;stroke:rgb(255,255,255)\"/></svg>"
      ],
      "text/plain": [
       "[(0.27450980392156865, 0.5098039215686274, 0.7058823529411765),\n",
       " (0.6862745098039216, 0.25098039215686274, 0.20784313725490197),\n",
       " (0.0, 0.5764705882352941, 0.4980392156862745),\n",
       " (1.0, 0.6470588235294118, 0.0),\n",
       " (0.4823529411764706, 0.3176470588235294, 0.2549019607843137)]"
      ]
     },
     "execution_count": 4,
     "metadata": {},
     "output_type": "execute_result"
    }
   ],
   "source": [
    "# 1 2 3 4 5\n",
    "sns.color_palette(palette[:5])"
   ]
  },
  {
   "cell_type": "code",
   "execution_count": 5,
   "id": "6aa0aec5-5b8a-4ee8-b0f8-06bb362aa23a",
   "metadata": {},
   "outputs": [
    {
     "data": {
      "text/html": [
       "<svg  width=\"275\" height=\"55\"><rect x=\"0\" y=\"0\" width=\"55\" height=\"55\" style=\"fill:#b86a84;stroke-width:2;stroke:rgb(255,255,255)\"/><rect x=\"55\" y=\"0\" width=\"55\" height=\"55\" style=\"fill:#5b3256;stroke-width:2;stroke:rgb(255,255,255)\"/><rect x=\"110\" y=\"0\" width=\"55\" height=\"55\" style=\"fill:#2e3876;stroke-width:2;stroke:rgb(255,255,255)\"/><rect x=\"165\" y=\"0\" width=\"55\" height=\"55\" style=\"fill:#587b7f;stroke-width:2;stroke:rgb(255,255,255)\"/><rect x=\"220\" y=\"0\" width=\"55\" height=\"55\" style=\"fill:#006d6f;stroke-width:2;stroke:rgb(255,255,255)\"/></svg>"
      ],
      "text/plain": [
       "[(0.7215686274509804, 0.41568627450980394, 0.5176470588235295),\n",
       " (0.3568627450980392, 0.19607843137254902, 0.33725490196078434),\n",
       " (0.1803921568627451, 0.2196078431372549, 0.4627450980392157),\n",
       " (0.34509803921568627, 0.4823529411764706, 0.4980392156862745),\n",
       " (0.0, 0.42745098039215684, 0.43529411764705883)]"
      ]
     },
     "execution_count": 5,
     "metadata": {},
     "output_type": "execute_result"
    }
   ],
   "source": [
    "# 6 7 8 9 10\n",
    "sns.color_palette(palette[5:10])"
   ]
  },
  {
   "cell_type": "code",
   "execution_count": 15,
   "id": "aed25853-a687-40b6-99d2-359881b95c1c",
   "metadata": {},
   "outputs": [
    {
     "data": {
      "text/html": [
       "<svg  width=\"275\" height=\"55\"><rect x=\"0\" y=\"0\" width=\"55\" height=\"55\" style=\"fill:#a7cbe8;stroke-width:2;stroke:rgb(255,255,255)\"/><rect x=\"55\" y=\"0\" width=\"55\" height=\"55\" style=\"fill:#6d9bc3;stroke-width:2;stroke:rgb(255,255,255)\"/><rect x=\"110\" y=\"0\" width=\"55\" height=\"55\" style=\"fill:#4d7da8;stroke-width:2;stroke:rgb(255,255,255)\"/><rect x=\"165\" y=\"0\" width=\"55\" height=\"55\" style=\"fill:#3d6384;stroke-width:2;stroke:rgb(255,255,255)\"/><rect x=\"220\" y=\"0\" width=\"55\" height=\"55\" style=\"fill:#304e68;stroke-width:2;stroke:rgb(255,255,255)\"/></svg>"
      ],
      "text/plain": [
       "[(0.6549019607843137, 0.796078431372549, 0.9098039215686274),\n",
       " (0.42745098039215684, 0.6078431372549019, 0.7647058823529411),\n",
       " (0.30196078431372547, 0.49019607843137253, 0.6588235294117647),\n",
       " (0.23921568627450981, 0.38823529411764707, 0.5176470588235295),\n",
       " (0.18823529411764706, 0.3058823529411765, 0.40784313725490196)]"
      ]
     },
     "execution_count": 15,
     "metadata": {},
     "output_type": "execute_result"
    }
   ],
   "source": [
    "# -10 -9 -8 -7 -6\n",
    "sns.color_palette(palette[10:15])"
   ]
  },
  {
   "cell_type": "code",
   "execution_count": 16,
   "id": "28e28a86-be76-4e90-bbd7-0585cf92e5ef",
   "metadata": {},
   "outputs": [
    {
     "data": {
      "text/html": [
       "<svg  width=\"275\" height=\"55\"><rect x=\"0\" y=\"0\" width=\"55\" height=\"55\" style=\"fill:#aaaaaa;stroke-width:2;stroke:rgb(255,255,255)\"/><rect x=\"55\" y=\"0\" width=\"55\" height=\"55\" style=\"fill:#808080;stroke-width:2;stroke:rgb(255,255,255)\"/><rect x=\"110\" y=\"0\" width=\"55\" height=\"55\" style=\"fill:#707070;stroke-width:2;stroke:rgb(255,255,255)\"/><rect x=\"165\" y=\"0\" width=\"55\" height=\"55\" style=\"fill:#606060;stroke-width:2;stroke:rgb(255,255,255)\"/><rect x=\"220\" y=\"0\" width=\"55\" height=\"55\" style=\"fill:#505050;stroke-width:2;stroke:rgb(255,255,255)\"/></svg>"
      ],
      "text/plain": [
       "[(0.6666666666666666, 0.6666666666666666, 0.6666666666666666),\n",
       " (0.5019607843137255, 0.5019607843137255, 0.5019607843137255),\n",
       " (0.4392156862745098, 0.4392156862745098, 0.4392156862745098),\n",
       " (0.3764705882352941, 0.3764705882352941, 0.3764705882352941),\n",
       " (0.3137254901960784, 0.3137254901960784, 0.3137254901960784)]"
      ]
     },
     "execution_count": 16,
     "metadata": {},
     "output_type": "execute_result"
    }
   ],
   "source": [
    "# -5 -4 -3 -2 -1\n",
    "sns.color_palette(palette[15:])"
   ]
  },
  {
   "cell_type": "code",
   "execution_count": 8,
   "id": "2649eed5-cd41-4d8e-af76-59b51028bb36",
   "metadata": {},
   "outputs": [],
   "source": [
    "custom_params = {\n",
    "    \n",
    "    'figure.figsize': (8, 4), # ширина и высота в дюймах\n",
    "    'axes.edgecolor': '0.75',\n",
    "    'axes.titlepad': 10, # расстояние между заголовком и графиком\n",
    "    'axes.titlesize': 10, # заголовок\n",
    "    'axes.titleweight': 'bold', # заголовок\n",
    "    'axes.labelsize': 10, # оси\n",
    "    'axes.labelweight': 'normal', # подписи осей\n",
    "    'axes.labelcolor': '0.3', # цвет подписей осей\n",
    "    'axes.labelpad': 8, # расстояние между подписью оси и осью\n",
    "    'xtick.labelsize': 9, # деления оси X\n",
    "    'xtick.color': '0.35', # цвет подписей оси X\n",
    "    'ytick.labelsize': 9, # деления оси Y\n",
    "    'ytick.color': '0.35', # цвет подписей оси Y\n",
    "    'axes.spines.left': True, # не отображать ось Y\n",
    "    'axes.spines.right': False, # не отображать правую рамку \n",
    "    'axes.spines.top': False, # не отображать верхнюю рамку\n",
    "    'axes.spines.bottom': True, # отображать нижнюю рамку\n",
    "    'lines.markersize': 4, # размер маркеров\n",
    "    'grid.color': '0.3',\n",
    "    'grid.linestyle': ':',\n",
    "    'grid.linewidth': 0.1,\n",
    "    'lines.linewidth': 1.2,\n",
    "}\n",
    "\n",
    "sns.set_theme(style='whitegrid', palette=palette, rc=custom_params)\n",
    "\n",
    "pd.set_option('display.max_rows', 100) # максимальное число отображаемых строк в head)\n",
    "pd.set_option('display.max_columns', 20) # число отображаемых столбцов по умолчанию (здесь 20)\n",
    "\n",
    "# Если необходимо посмотреть определенное число строк в датафрейме (здесь 25):\n",
    "# with pd.option_context('display.max_rows', 10): display(df.head(25))\n",
    "\n",
    "%matplotlib inline\n",
    "\n",
    "# seed = 0\n",
    "seed = 42"
   ]
  }
 ],
 "metadata": {
  "kernelspec": {
   "display_name": "Python 3 (ipykernel)",
   "language": "python",
   "name": "python3"
  },
  "language_info": {
   "codemirror_mode": {
    "name": "ipython",
    "version": 3
   },
   "file_extension": ".py",
   "mimetype": "text/x-python",
   "name": "python",
   "nbconvert_exporter": "python",
   "pygments_lexer": "ipython3",
   "version": "3.11.4"
  }
 },
 "nbformat": 4,
 "nbformat_minor": 5
}
