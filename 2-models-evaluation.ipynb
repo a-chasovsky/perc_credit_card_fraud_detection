{
 "cells": [
  {
   "cell_type": "code",
   "execution_count": null,
   "id": "377e7ce6-e5af-471a-83e4-0d959c552804",
   "metadata": {},
   "outputs": [],
   "source": [
    "import time \n",
    "t_script = time.time()"
   ]
  },
  {
   "cell_type": "markdown",
   "id": "34488a94-1d46-4e76-94a0-e97721f1e5d0",
   "metadata": {},
   "source": [
    "### Load libraries, functions, palette, theme"
   ]
  },
  {
   "cell_type": "code",
   "execution_count": null,
   "id": "45b64396-1156-4e87-aedf-b47ebc0250f3",
   "metadata": {},
   "outputs": [],
   "source": [
    "%run __libraries.ipynb"
   ]
  },
  {
   "cell_type": "code",
   "execution_count": null,
   "id": "769b9c33-a7b5-41c8-9a86-7d756d4ea082",
   "metadata": {},
   "outputs": [],
   "source": [
    "%run __functions.ipynb"
   ]
  },
  {
   "cell_type": "markdown",
   "id": "4893cb28-16a0-4a16-b705-a4a934f04042",
   "metadata": {},
   "source": [
    "## Models Evaluation"
   ]
  },
  {
   "cell_type": "markdown",
   "id": "3d3515da-cf48-4282-b080-a084c4a15823",
   "metadata": {},
   "source": [
    "### Load Data"
   ]
  },
  {
   "cell_type": "code",
   "execution_count": null,
   "id": "b2028321-cb01-4366-88f5-fdc8aca5059e",
   "metadata": {},
   "outputs": [],
   "source": [
    "start_date = '2022-07-12'\n",
    "end_date = '2022-10-15'"
   ]
  },
  {
   "cell_type": "code",
   "execution_count": null,
   "id": "b9c0aa0e-f682-41d7-954c-5b91966dd91e",
   "metadata": {},
   "outputs": [],
   "source": [
    "data = read_from_files(\n",
    "    DIR_INPUT = './data-transformed/',\n",
    "    BEGIN_DATE = start_date,\n",
    "    END_DATE = end_date\n",
    ")"
   ]
  },
  {
   "cell_type": "code",
   "execution_count": null,
   "id": "f2485f91-d518-43a4-a2bc-ac4c76a758c9",
   "metadata": {},
   "outputs": [],
   "source": [
    "data.shape"
   ]
  },
  {
   "cell_type": "markdown",
   "id": "cbbdf051-3b50-40d2-a6e5-9f2303753f2e",
   "metadata": {},
   "source": [
    "### Features Selection"
   ]
  },
  {
   "cell_type": "code",
   "execution_count": null,
   "id": "1e0d1894-f925-41c4-940e-a7a691dcdfa4",
   "metadata": {},
   "outputs": [],
   "source": [
    "features = [\n",
    "    'tx_amount', 'tx_during_weekend', 'tx_during_night',\n",
    "    'customer_id_nb_tx_1day_window', 'customer_id_avg_amount_1day_window',\n",
    "    'customer_id_nb_tx_7day_window', 'customer_id_avg_amount_7day_window',\n",
    "    'customer_id_nb_tx_30day_window', 'customer_id_avg_amount_30day_window',\n",
    "    'terminal_id_nb_tx_1day_window', 'terminal_id_risk_1day_window',\n",
    "    'terminal_id_nb_tx_7day_window', 'terminal_id_risk_7day_window',\n",
    "    'terminal_id_nb_tx_30day_window', 'terminal_id_risk_30day_window'\n",
    "]\n",
    "\n",
    "target = 'tx_fraud'"
   ]
  },
  {
   "cell_type": "code",
   "execution_count": null,
   "id": "d39fe034-ed91-44c9-9c79-70a9f3a6efe2",
   "metadata": {},
   "outputs": [],
   "source": [
    "len(features)"
   ]
  },
  {
   "cell_type": "markdown",
   "id": "922f0a4c-e53e-40a9-9459-af9959ebf531",
   "metadata": {},
   "source": [
    "### Primary Parameters"
   ]
  },
  {
   "cell_type": "code",
   "execution_count": null,
   "id": "7420ef64-fa06-4fe4-b96b-1c85824533ba",
   "metadata": {},
   "outputs": [],
   "source": [
    "%run __primary_parameters.ipynb"
   ]
  },
  {
   "cell_type": "code",
   "execution_count": null,
   "id": "47fd5fd8-8b83-4ff7-b3aa-57e216363007",
   "metadata": {},
   "outputs": [],
   "source": [
    "train_start, train_start_valid, train_start_test"
   ]
  },
  {
   "cell_type": "markdown",
   "id": "c5bec729-dddf-4d3c-b136-da5541af7cfa",
   "metadata": {},
   "source": [
    "### Training and Evaluation Models"
   ]
  },
  {
   "cell_type": "code",
   "execution_count": null,
   "id": "5cdb5bee-d759-4022-96dd-5d403beaf91c",
   "metadata": {},
   "outputs": [],
   "source": [
    "hyper_list = []"
   ]
  },
  {
   "cell_type": "code",
   "execution_count": null,
   "id": "08738709-a5f6-45d9-82e5-b5de8a9bb263",
   "metadata": {},
   "outputs": [],
   "source": [
    "hyper_dict = {\n",
    "    'Logistic Regression': {\n",
    "        'penalty': None,\n",
    "        'C': None,\n",
    "        'solver': None,\n",
    "        'max_iter': 5000,\n",
    "        'random_state': seed\n",
    "    },\n",
    "    'Random Forest': {\n",
    "        'n_estimators': None, 'max_depth': None,\n",
    "        'random_state': seed\n",
    "    },\n",
    "    'XGBoost': {\n",
    "        'n_estimators': None, 'max_depth': None, \n",
    "        'learning_rate': None, 'random_state': seed\n",
    "    },\n",
    "    'LightGBM': {\n",
    "        'n_estimators': None, 'max_depth': None,\n",
    "        'learning_rate': None, 'random_state': seed\n",
    "    }\n",
    "}"
   ]
  },
  {
   "cell_type": "markdown",
   "id": "7b70babe-c2aa-4deb-9c5c-0697f3555e8d",
   "metadata": {},
   "source": [
    "#### Logistic Regression"
   ]
  },
  {
   "cell_type": "markdown",
   "id": "87ee3b53-2efa-441c-965a-90500f5ea870",
   "metadata": {},
   "source": [
    "##### LR Baseline"
   ]
  },
  {
   "cell_type": "code",
   "execution_count": null,
   "id": "a0245774-547a-4d47-b3c8-526f006ac5d3",
   "metadata": {},
   "outputs": [],
   "source": [
    "clf_lr_base = LogisticRegression()\n",
    "\n",
    "params_lr_base = {\n",
    "    'clf__penalty': ['l1', 'l2'],\n",
    "    'clf__C': [0.1, 1, 10],\n",
    "    'clf__solver': ['saga'],\n",
    "    'clf__max_iter': [5000],\n",
    "    'clf__random_state': [seed]\n",
    "}\n",
    "\n",
    "preprop_lr_base = [\n",
    "    ('scaler', StandardScaler())\n",
    "]\n",
    "\n",
    "grid_lr_base = grid_create(\n",
    "    clf_lr_base, params_lr_base, preprop_lr_base,\n",
    "    search_type='grid', key_params_idxs=[0,1,2]\n",
    ")"
   ]
  },
  {
   "cell_type": "code",
   "execution_count": null,
   "id": "55523fe8-b425-428d-94bd-bf5e82d5caa2",
   "metadata": {},
   "outputs": [],
   "source": [
    "t_perf = time.time()\n",
    "performance_lr_base = model_performance_CV(data, **grid_lr_base)\n",
    "exec_time_lr_base = time.time() - t_perf"
   ]
  },
  {
   "cell_type": "code",
   "execution_count": null,
   "id": "8eec3b18-77ba-40f2-b1ba-11876b3b940e",
   "metadata": {},
   "outputs": [],
   "source": [
    "exec_time_lr_base"
   ]
  },
  {
   "cell_type": "code",
   "execution_count": null,
   "id": "ea133d47-d6f9-4a7c-a6b8-ab79d3fc0ab7",
   "metadata": {},
   "outputs": [],
   "source": [
    "summary_lr_base = get_summary_performances(performance_lr_base, metrics)"
   ]
  },
  {
   "cell_type": "code",
   "execution_count": null,
   "id": "46aab629-8adf-4f1e-9f36-526226622941",
   "metadata": {},
   "outputs": [],
   "source": [
    "summary_lr_base"
   ]
  },
  {
   "cell_type": "code",
   "execution_count": null,
   "id": "df6b7d72-e896-42bf-abec-03608eabe92f",
   "metadata": {},
   "outputs": [],
   "source": [
    "estmators_esolate_lvl_1 = 'l1'\n",
    "\n",
    "performance_lr_base_plot_estmators = \\\n",
    "    performance_lr_base.loc[performance_lr_base['Parameters summary'] \\\n",
    "        .str.startswith(estmators_esolate_lvl_1)]"
   ]
  },
  {
   "cell_type": "code",
   "execution_count": null,
   "id": "e7f6d79a-5697-4602-8e76-a45adfa62399",
   "metadata": {},
   "outputs": [],
   "source": [
    "plot_performance(\n",
    "    data=performance_lr_base_plot_estmators,\n",
    "    metrics=metrics,\n",
    "    subsets=subsets,\n",
    "    xlabel='C',\n",
    "    colors=[palette[1], palette[-1], palette[-1]],\n",
    "    save=True,\n",
    "    filename='performance_lr'\n",
    ")"
   ]
  },
  {
   "cell_type": "markdown",
   "id": "47c9c987-2bfc-40aa-9607-31a405ca5d24",
   "metadata": {},
   "source": [
    "##### Hyperparameters Dict"
   ]
  },
  {
   "cell_type": "code",
   "execution_count": null,
   "id": "95e795ea-b191-47c3-8547-0a256122bcb2",
   "metadata": {},
   "outputs": [],
   "source": [
    "best_params_lr = summary_lr_base.loc['Best estimated parameters', 'Average Precision']"
   ]
  },
  {
   "cell_type": "code",
   "execution_count": null,
   "id": "1efe333f-06f0-4865-a57b-cbd0297b0838",
   "metadata": {},
   "outputs": [],
   "source": [
    "best_params_lr"
   ]
  },
  {
   "cell_type": "code",
   "execution_count": null,
   "id": "69049ed1-85b5-4a70-beb1-c60b841227b7",
   "metadata": {},
   "outputs": [],
   "source": [
    "hyper_lr_keys = hyper_dict['Logistic Regression'].keys()"
   ]
  },
  {
   "cell_type": "code",
   "execution_count": null,
   "id": "a6bc4479-ccf3-4f12-9731-23e1bcc73c8a",
   "metadata": {},
   "outputs": [],
   "source": [
    "hyper_lr_keys"
   ]
  },
  {
   "cell_type": "code",
   "execution_count": null,
   "id": "cd49d903-7b25-47bd-a451-b4a8f54441eb",
   "metadata": {},
   "outputs": [],
   "source": [
    "hyper_lr_params = best_params_lr.split('/')"
   ]
  },
  {
   "cell_type": "code",
   "execution_count": null,
   "id": "88e9ead9-1818-476b-8bb4-bc4a7cf843ac",
   "metadata": {},
   "outputs": [],
   "source": [
    "hyper_lr_params[1] = ast.literal_eval(hyper_lr_params[1])"
   ]
  },
  {
   "cell_type": "code",
   "execution_count": null,
   "id": "df25683f-2cb3-4ca7-be76-0fa0607d702d",
   "metadata": {},
   "outputs": [],
   "source": [
    "hyper_lr_params"
   ]
  },
  {
   "cell_type": "code",
   "execution_count": null,
   "id": "8272e56d-1dc8-41db-9116-a322fa3fd4a4",
   "metadata": {},
   "outputs": [],
   "source": [
    "for key, param in zip(hyper_lr_keys, hyper_lr_params):\n",
    "    hyper_dict['Logistic Regression'][key] = param"
   ]
  },
  {
   "cell_type": "markdown",
   "id": "9d20a92c-1005-4330-9287-7986209470eb",
   "metadata": {},
   "source": [
    "#### Random Forest"
   ]
  },
  {
   "cell_type": "markdown",
   "id": "fd695cd0-4ecf-42b0-9c25-39845f00a584",
   "metadata": {},
   "source": [
    "##### RF Baseline"
   ]
  },
  {
   "cell_type": "code",
   "execution_count": null,
   "id": "32bc989d-5ff7-473b-bb37-836681813e83",
   "metadata": {},
   "outputs": [],
   "source": [
    "clf_rf_base = RandomForestClassifier()\n",
    "\n",
    "params_rf_base = {\n",
    "    'clf__n_estimators':[5, 10, 25, 50, 75, 100, 150],\n",
    "    'clf__max_depth':[10, 25, 50],\n",
    "    'clf__random_state':[seed]\n",
    "}\n",
    "\n",
    "preprop_rf_base = [\n",
    "    ('scaler', StandardScaler())\n",
    "]\n",
    "\n",
    "grid_rf_base = grid_create(\n",
    "    clf_rf_base, params_rf_base, preprop_rf_base,\n",
    "    search_type='grid', key_params_idxs=[0,1]\n",
    ")"
   ]
  },
  {
   "cell_type": "code",
   "execution_count": null,
   "id": "776f0e79-6f03-40fe-87ae-f51bcf5a97ca",
   "metadata": {},
   "outputs": [],
   "source": [
    "t_perf = time.time()\n",
    "performance_rf_base = model_performance_CV(data, **grid_rf_base)\n",
    "exec_time_rf_base = time.time() - t_perf"
   ]
  },
  {
   "cell_type": "code",
   "execution_count": null,
   "id": "996e417e-ff75-4d45-865c-43ab02e99f9b",
   "metadata": {},
   "outputs": [],
   "source": [
    "exec_time_rf_base"
   ]
  },
  {
   "cell_type": "code",
   "execution_count": null,
   "id": "439c61a2-ef9a-4240-bc2a-af79824329ba",
   "metadata": {},
   "outputs": [],
   "source": [
    "summary_rf_base = get_summary_performances(performance_rf_base, metrics)"
   ]
  },
  {
   "cell_type": "code",
   "execution_count": null,
   "id": "13183a2c-20b9-47fe-a977-5ac6691835af",
   "metadata": {},
   "outputs": [],
   "source": [
    "summary_rf_base"
   ]
  },
  {
   "cell_type": "code",
   "execution_count": null,
   "id": "03504a4c-5e5f-467f-b487-fa4996ce1fd5",
   "metadata": {},
   "outputs": [],
   "source": [
    "estmators_esolate_lvl = '150'\n",
    "\n",
    "performance_rf_base_plot_estmators = \\\n",
    "    performance_rf_base.loc[performance_rf_base['Parameters summary'] \\\n",
    "        .str.startswith(estmators_esolate_lvl)]"
   ]
  },
  {
   "cell_type": "code",
   "execution_count": null,
   "id": "0e946a3c-3988-428b-90a7-f9f1afda78d3",
   "metadata": {},
   "outputs": [],
   "source": [
    "plot_performance(\n",
    "    data=performance_rf_base_plot_estmators,\n",
    "    metrics=metrics,\n",
    "    subsets=subsets,\n",
    "    xlabel='Estimators / Depth',\n",
    "    colors=[palette[2], palette[-1], palette[-1]]\n",
    ")"
   ]
  },
  {
   "cell_type": "code",
   "execution_count": null,
   "id": "52e76aae-0237-4caa-9ddf-3221ad97613a",
   "metadata": {},
   "outputs": [],
   "source": [
    "depth_esolate_lvl = '25'\n",
    "\n",
    "performance_rf_base_plot_depth = \\\n",
    "    performance_rf_base.loc[performance_rf_base['Parameters summary'] \\\n",
    "        .str.endswith(depth_esolate_lvl)]"
   ]
  },
  {
   "cell_type": "code",
   "execution_count": null,
   "id": "3ed427b7-f389-4230-bfb1-a821464bc4f0",
   "metadata": {},
   "outputs": [],
   "source": [
    "plot_performance(\n",
    "    data=performance_rf_base_plot_depth,\n",
    "    metrics=metrics,\n",
    "    subsets=subsets,\n",
    "    xlabel='Estimators / Depth',\n",
    "    colors=[palette[2], palette[-1], palette[-1]],\n",
    "    # rotation=45,\n",
    "    save=True,\n",
    "    filename='performance_rf'\n",
    ")"
   ]
  },
  {
   "cell_type": "markdown",
   "id": "751753f3-066e-4cd0-914b-9682963a201c",
   "metadata": {},
   "source": [
    "##### Hyperparameters Dict"
   ]
  },
  {
   "cell_type": "code",
   "execution_count": null,
   "id": "63f78363-195d-4100-a660-09beee3bda2e",
   "metadata": {},
   "outputs": [],
   "source": [
    "best_params_rf = summary_rf_base.loc['Best estimated parameters', 'Average Precision']"
   ]
  },
  {
   "cell_type": "code",
   "execution_count": null,
   "id": "716b4be4-d961-4d65-b426-30353910b349",
   "metadata": {},
   "outputs": [],
   "source": [
    "best_params_rf"
   ]
  },
  {
   "cell_type": "code",
   "execution_count": null,
   "id": "f9bc46fa-a493-4932-a75c-7f014263f2d6",
   "metadata": {},
   "outputs": [],
   "source": [
    "hyper_rf_keys = hyper_dict['Random Forest'].keys()"
   ]
  },
  {
   "cell_type": "code",
   "execution_count": null,
   "id": "ee75eb5c-12c9-476d-bc5c-e945b44f1636",
   "metadata": {},
   "outputs": [],
   "source": [
    "hyper_rf_params = [ast.literal_eval(i) for i in best_params_rf.split('/')]"
   ]
  },
  {
   "cell_type": "code",
   "execution_count": null,
   "id": "cd5c627a-fc76-4fd0-993c-781f02c367c6",
   "metadata": {},
   "outputs": [],
   "source": [
    "for key, param in zip(hyper_rf_keys, hyper_rf_params):\n",
    "    hyper_dict['Random Forest'][key] = param"
   ]
  },
  {
   "cell_type": "markdown",
   "id": "e551ba54-c051-4187-8b95-3aa79cb9687c",
   "metadata": {},
   "source": [
    "#### XGBoost"
   ]
  },
  {
   "cell_type": "markdown",
   "id": "b5da4b69-3926-4550-92d2-5a69ce1c06f6",
   "metadata": {},
   "source": [
    "##### XGB Baseline"
   ]
  },
  {
   "cell_type": "code",
   "execution_count": null,
   "id": "7e0c8cb3-2d68-4f89-ab4e-d8bfc738f1e0",
   "metadata": {},
   "outputs": [],
   "source": [
    "clf_xgb_base = XGBClassifier()\n",
    "\n",
    "params_xgb_base = {\n",
    "    'clf__n_estimators':[5, 10, 25, 50, 75, 100, 150],\n",
    "    'clf__max_depth':[3, 6, 9],\n",
    "    'clf__learning_rate':[0.1, 0.3],\n",
    "    'clf__random_state':[seed]\n",
    "}\n",
    "\n",
    "preprop_xgb_base = [\n",
    "    ('scaler', StandardScaler())\n",
    "]\n",
    "\n",
    "grid_xgb_base = grid_create(\n",
    "    clf_xgb_base, params_xgb_base, preprop_xgb_base,\n",
    "    search_type='grid', key_params_idxs=[0,1,2]\n",
    ")"
   ]
  },
  {
   "cell_type": "code",
   "execution_count": null,
   "id": "9b4cb63e-34dc-47ee-a3ad-9269c4476d2a",
   "metadata": {},
   "outputs": [],
   "source": [
    "t_perf = time.time()\n",
    "performance_xgb_base = model_performance_CV(data, **grid_xgb_base)\n",
    "exec_time_xgb_base = time.time() - t_perf"
   ]
  },
  {
   "cell_type": "code",
   "execution_count": null,
   "id": "af9d12f3-5b9d-4b39-b415-e91694a2951d",
   "metadata": {},
   "outputs": [],
   "source": [
    "exec_time_xgb_base"
   ]
  },
  {
   "cell_type": "code",
   "execution_count": null,
   "id": "73bef9fd-3358-41dc-b07f-09c95822277e",
   "metadata": {},
   "outputs": [],
   "source": [
    "summary_xgb_base = get_summary_performances(performance_xgb_base, metrics)"
   ]
  },
  {
   "cell_type": "code",
   "execution_count": null,
   "id": "2457f771-64ed-4a06-93ba-7ce2aca3f671",
   "metadata": {},
   "outputs": [],
   "source": [
    "summary_xgb_base"
   ]
  },
  {
   "cell_type": "code",
   "execution_count": null,
   "id": "23b5c019-a985-44a3-baec-fc549e996a3c",
   "metadata": {},
   "outputs": [],
   "source": [
    "estmators_esolate_lvl = '3/0.1'\n",
    "\n",
    "performance_xgb_base_plot_estmators = \\\n",
    "    performance_xgb_base.loc[performance_xgb_base['Parameters summary'] \\\n",
    "        .str.endswith(estmators_esolate_lvl)]"
   ]
  },
  {
   "cell_type": "code",
   "execution_count": null,
   "id": "a1c9763b-10e3-4038-8af2-ee4964e05913",
   "metadata": {},
   "outputs": [],
   "source": [
    "plot_performance(\n",
    "    data=performance_xgb_base_plot_estmators,\n",
    "    metrics=metrics,\n",
    "    subsets=subsets,\n",
    "    xlabel='Trees / Learning Rate / Depth',\n",
    "    colors=[palette[-7], palette[-1], palette[-1]],\n",
    "    rotation=45,\n",
    "    save=True,\n",
    "    filename='performance_xgb'\n",
    ")"
   ]
  },
  {
   "cell_type": "code",
   "execution_count": null,
   "id": "2544ee67-f749-4a01-a491-08996375d306",
   "metadata": {},
   "outputs": [],
   "source": [
    "depth_esolate_lvl = '150/3'\n",
    "\n",
    "performance_xgb_base_plot_depth = \\\n",
    "    performance_xgb_base.loc[performance_xgb_base['Parameters summary'] \\\n",
    "        .str.startswith(depth_esolate_lvl)]"
   ]
  },
  {
   "cell_type": "code",
   "execution_count": null,
   "id": "f53955a2-0b1e-40a2-999d-eb47eaab0715",
   "metadata": {},
   "outputs": [],
   "source": [
    "plot_performance(\n",
    "    data=performance_xgb_base_plot_depth,\n",
    "    metrics=metrics,\n",
    "    subsets=subsets,\n",
    "    xlabel='Trees / Learning Rate / Leafs',\n",
    "    colors=[palette[-7], palette[-1], palette[-1]],\n",
    "    rotation=45\n",
    ")"
   ]
  },
  {
   "cell_type": "markdown",
   "id": "5e386464-2315-4726-abac-69f20dfe2ed8",
   "metadata": {},
   "source": [
    "##### Hyperparameters Dict"
   ]
  },
  {
   "cell_type": "code",
   "execution_count": null,
   "id": "fb887d84-1d52-4076-b2be-d9147aa70722",
   "metadata": {},
   "outputs": [],
   "source": [
    "best_params_xgb = summary_xgb_base.loc['Best estimated parameters', 'Average Precision']"
   ]
  },
  {
   "cell_type": "code",
   "execution_count": null,
   "id": "b6b0301a-1a3b-47ee-af82-b7ca5d1ce59b",
   "metadata": {},
   "outputs": [],
   "source": [
    "best_params_xgb"
   ]
  },
  {
   "cell_type": "code",
   "execution_count": null,
   "id": "23fa3630-b33a-458e-9d05-f0c4db1fee5f",
   "metadata": {},
   "outputs": [],
   "source": [
    "hyper_xgb_keys = hyper_dict['XGBoost'].keys()"
   ]
  },
  {
   "cell_type": "code",
   "execution_count": null,
   "id": "979c7c67-b53c-470d-9745-435d76fcf2cc",
   "metadata": {},
   "outputs": [],
   "source": [
    "hyper_xgb_params = [ast.literal_eval(i) for i in best_params_xgb.split('/')]"
   ]
  },
  {
   "cell_type": "code",
   "execution_count": null,
   "id": "50238169-5c0e-4f81-8d3d-18e099399ba8",
   "metadata": {},
   "outputs": [],
   "source": [
    "for key, param in zip(hyper_xgb_keys, hyper_xgb_params):\n",
    "    hyper_dict['XGBoost'][key] = param"
   ]
  },
  {
   "cell_type": "markdown",
   "id": "8e4729f0-ba7b-4254-b49c-90e0fa82b29d",
   "metadata": {},
   "source": [
    "#### LightGBM"
   ]
  },
  {
   "cell_type": "markdown",
   "id": "6962615a-ee44-41ae-80c6-b87254522a7c",
   "metadata": {},
   "source": [
    "##### LGB Baseline"
   ]
  },
  {
   "cell_type": "code",
   "execution_count": null,
   "id": "143151e2-c963-46e2-b1e6-e5b20fa5f6b9",
   "metadata": {},
   "outputs": [],
   "source": [
    "clf_lgb_base = LGBMClassifier()\n",
    "\n",
    "params_lgb_base = {\n",
    "    'clf__n_estimators':[5, 10, 25, 50, 75, 100, 150],\n",
    "    'clf__max_depth':[3, 6, 9],\n",
    "    'clf__learning_rate':[0.1, 0.3],\n",
    "    'clf__random_state':[seed],\n",
    "    'clf__verbose': [-1]\n",
    "}\n",
    "\n",
    "preprop_lgb_base = [\n",
    "    ('scaler', StandardScaler())\n",
    "]\n",
    "\n",
    "grid_lgb_base = grid_create(\n",
    "    clf_lgb_base, params_lgb_base, preprop_lgb_base,\n",
    "    search_type='grid', key_params_idxs=[0,1,2]\n",
    ")"
   ]
  },
  {
   "cell_type": "code",
   "execution_count": null,
   "id": "521a1aa3-8504-42f5-9e62-33bba6e2b6bb",
   "metadata": {},
   "outputs": [],
   "source": [
    "t_perf = time.time()\n",
    "performance_lgb_base = model_performance_CV(data, **grid_lgb_base)\n",
    "exec_time_lgb_base = time.time() - t_perf"
   ]
  },
  {
   "cell_type": "code",
   "execution_count": null,
   "id": "bed48b82-5fa1-40e1-bbe2-ae42a28362da",
   "metadata": {},
   "outputs": [],
   "source": [
    "exec_time_lgb_base"
   ]
  },
  {
   "cell_type": "code",
   "execution_count": null,
   "id": "1ec9c7a4-0f23-4943-982a-8a3ef68cc84e",
   "metadata": {},
   "outputs": [],
   "source": [
    "summary_lgb_base = get_summary_performances(performance_lgb_base, metrics)"
   ]
  },
  {
   "cell_type": "code",
   "execution_count": null,
   "id": "9f8111d3-877a-4782-8a51-b2043d99e363",
   "metadata": {},
   "outputs": [],
   "source": [
    "summary_lgb_base"
   ]
  },
  {
   "cell_type": "code",
   "execution_count": null,
   "id": "b13946e9-c0b2-477c-98e6-c5a35fe31044",
   "metadata": {},
   "outputs": [],
   "source": [
    "estmators_esolate_lvl = '150/3'\n",
    "\n",
    "performance_lgb_base_plot_estmators = \\\n",
    "    performance_lgb_base.loc[performance_lgb_base['Parameters summary'] \\\n",
    "        .str.startswith(estmators_esolate_lvl)]"
   ]
  },
  {
   "cell_type": "code",
   "execution_count": null,
   "id": "ce49452a-17a4-494a-b641-b45425b645a1",
   "metadata": {},
   "outputs": [],
   "source": [
    "plot_performance(\n",
    "    data=performance_lgb_base_plot_estmators,\n",
    "    metrics=metrics,\n",
    "    subsets=subsets,\n",
    "    xlabel='Trees / Learning Rate / Depth',\n",
    "    colors=[palette[-9], palette[-1], palette[-1]]\n",
    ")"
   ]
  },
  {
   "cell_type": "code",
   "execution_count": null,
   "id": "45667aad-6a1b-4c7d-a030-8576c542d507",
   "metadata": {},
   "outputs": [],
   "source": [
    "depth_esolate_lvl = '3/0.1'\n",
    "\n",
    "performance_lgb_base_plot_depth = \\\n",
    "    performance_lgb_base.loc[performance_lgb_base['Parameters summary'] \\\n",
    "        .str.endswith(depth_esolate_lvl)]"
   ]
  },
  {
   "cell_type": "code",
   "execution_count": null,
   "id": "7b91368e-653a-4bea-9037-74e58bf039f3",
   "metadata": {},
   "outputs": [],
   "source": [
    "plot_performance(\n",
    "    data=performance_lgb_base_plot_depth,\n",
    "    metrics=metrics,\n",
    "    subsets=subsets,\n",
    "    xlabel='Trees / Learning Rate / Leafs',\n",
    "    colors=[palette[-9], palette[-1], palette[-1]],\n",
    "    rotation=45,\n",
    "    save=True,\n",
    "    filename='performance_lgb'\n",
    ")"
   ]
  },
  {
   "cell_type": "markdown",
   "id": "f23ef7a9-c9dd-4998-be77-2fe1e59c7b36",
   "metadata": {},
   "source": [
    "##### Hyperparameters Dict"
   ]
  },
  {
   "cell_type": "code",
   "execution_count": null,
   "id": "eca3590e-e0c4-4eb2-874e-5d8d3e9eebf2",
   "metadata": {},
   "outputs": [],
   "source": [
    "best_params_lgb = summary_lgb_base.loc['Best estimated parameters', 'Average Precision']"
   ]
  },
  {
   "cell_type": "code",
   "execution_count": null,
   "id": "1861faad-ae63-43fb-8b59-69d766aba8b3",
   "metadata": {},
   "outputs": [],
   "source": [
    "best_params_lgb"
   ]
  },
  {
   "cell_type": "code",
   "execution_count": null,
   "id": "301562e6-6708-4de5-ba12-fc8c8717894a",
   "metadata": {},
   "outputs": [],
   "source": [
    "hyper_lgb_keys = hyper_dict['LightGBM'].keys()"
   ]
  },
  {
   "cell_type": "code",
   "execution_count": null,
   "id": "b5e3eab5-8630-4378-bc88-b98cd132ffd3",
   "metadata": {},
   "outputs": [],
   "source": [
    "hyper_lgb_params = [ast.literal_eval(i) for i in best_params_lgb.split('/')]"
   ]
  },
  {
   "cell_type": "code",
   "execution_count": null,
   "id": "d55a485b-0f50-4894-af0d-b51c789d6427",
   "metadata": {},
   "outputs": [],
   "source": [
    "for key, param in zip(hyper_lgb_keys, hyper_lgb_params):\n",
    "    hyper_dict['LightGBM'][key] = param"
   ]
  },
  {
   "cell_type": "markdown",
   "id": "ef7a473d-63bb-447f-88c7-bb4bc39f12d0",
   "metadata": {},
   "source": [
    "### Save Results"
   ]
  },
  {
   "cell_type": "code",
   "execution_count": null,
   "id": "2d7399e3-0bc0-492f-87b0-ba7358389238",
   "metadata": {},
   "outputs": [],
   "source": [
    "performance_dict = {\n",
    "    \"Logistic Regression\": performance_lr_base,\n",
    "    \"Random Forest\": performance_rf_base,\n",
    "    \"XGBoost\": performance_xgb_base,\n",
    "    'LightGBM': performance_lgb_base\n",
    "}"
   ]
  },
  {
   "cell_type": "code",
   "execution_count": null,
   "id": "d56ee9a8-3f73-407f-9c6f-f9d700f3fb8b",
   "metadata": {},
   "outputs": [],
   "source": [
    "filehandler = open('_performance_base.pkl', 'wb') \n",
    "pickle.dump(performance_dict, filehandler)\n",
    "filehandler.close()"
   ]
  },
  {
   "cell_type": "code",
   "execution_count": null,
   "id": "8ad7a35e-4261-4049-8e61-aeb139c5ac0c",
   "metadata": {},
   "outputs": [],
   "source": [
    "summary_dict = {\n",
    "    \"Logistic Regression\": summary_lr_base,\n",
    "    \"Random Forest\": summary_rf_base,\n",
    "    \"XGBoost\": summary_xgb_base,\n",
    "    'LightGBM': summary_lgb_base\n",
    "}"
   ]
  },
  {
   "cell_type": "code",
   "execution_count": null,
   "id": "851c39d4-28aa-437c-bf07-90457d29274c",
   "metadata": {},
   "outputs": [],
   "source": [
    "filehandler = open('_summary_base.pkl', 'wb') \n",
    "pickle.dump(summary_dict, filehandler)\n",
    "filehandler.close()"
   ]
  },
  {
   "cell_type": "code",
   "execution_count": null,
   "id": "6e4aec27-fc74-4a1c-a55c-7b1ccae698f1",
   "metadata": {},
   "outputs": [],
   "source": [
    "hyper_dict"
   ]
  },
  {
   "cell_type": "code",
   "execution_count": null,
   "id": "4d702e02-2364-46fc-9b8b-76fa85938584",
   "metadata": {},
   "outputs": [],
   "source": [
    "filehandler = open('_hyperparameters_base.pkl', 'wb') \n",
    "pickle.dump(hyper_dict, filehandler)\n",
    "filehandler.close()"
   ]
  },
  {
   "cell_type": "code",
   "execution_count": null,
   "id": "7da74b75-6491-431d-9dca-1c7158a73805",
   "metadata": {},
   "outputs": [],
   "source": [
    "time_exec_dict = {\n",
    "    \"Logistic Regression\": exec_time_lr_base,\n",
    "    \"Random Forest\": exec_time_rf_base,\n",
    "    \"XGBoost\": exec_time_xgb_base,\n",
    "    'LightGBM': exec_time_lgb_base\n",
    "}"
   ]
  },
  {
   "cell_type": "code",
   "execution_count": null,
   "id": "87d13cce-6050-4346-8930-6888dc6f6a83",
   "metadata": {},
   "outputs": [],
   "source": [
    "filehandler = open('_time_exec_base.pkl', 'wb') \n",
    "pickle.dump(time_exec_dict, filehandler)\n",
    "filehandler.close()"
   ]
  },
  {
   "cell_type": "code",
   "execution_count": null,
   "id": "6bbe19b6-4288-4558-b1c9-a4e9bb4a0c9c",
   "metadata": {},
   "outputs": [],
   "source": [
    "e_time = str(dt.timedelta(seconds=np.round(time.time() - t_script)))\n",
    "print('Execution time: {}'.format(e_time))"
   ]
  }
 ],
 "metadata": {
  "kernelspec": {
   "display_name": "Python 3 (ipykernel)",
   "language": "python",
   "name": "python3"
  },
  "language_info": {
   "codemirror_mode": {
    "name": "ipython",
    "version": 3
   },
   "file_extension": ".py",
   "mimetype": "text/x-python",
   "name": "python",
   "nbconvert_exporter": "python",
   "pygments_lexer": "ipython3",
   "version": "3.11.4"
  }
 },
 "nbformat": 4,
 "nbformat_minor": 5
}
