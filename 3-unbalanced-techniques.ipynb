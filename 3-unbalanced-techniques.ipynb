{
 "cells": [
  {
   "cell_type": "code",
   "execution_count": 1,
   "id": "0a880415-dd32-4c4c-9aab-198ba2bd26ac",
   "metadata": {},
   "outputs": [],
   "source": [
    "import time \n",
    "t_script = time.time()"
   ]
  },
  {
   "cell_type": "markdown",
   "id": "4651093f-8900-4a9e-89db-b726cfcfe3ab",
   "metadata": {},
   "source": [
    "### Load libraries, functions, palette, theme"
   ]
  },
  {
   "cell_type": "code",
   "execution_count": 2,
   "id": "a853c125-b892-4c4c-92c6-6cad78431f21",
   "metadata": {},
   "outputs": [],
   "source": [
    "%run __libraries.ipynb"
   ]
  },
  {
   "cell_type": "code",
   "execution_count": 3,
   "id": "40725d4b-29a5-48ba-840b-2edba3cde43b",
   "metadata": {},
   "outputs": [],
   "source": [
    "%run __functions.ipynb"
   ]
  },
  {
   "cell_type": "markdown",
   "id": "64e94e4a-5821-41c3-816a-f7370442a7d8",
   "metadata": {},
   "source": [
    "## Unbalanced Techniques"
   ]
  },
  {
   "cell_type": "markdown",
   "id": "f682b788-f0d0-41f8-a6dd-8e7dba80beca",
   "metadata": {},
   "source": [
    "### Load Data"
   ]
  },
  {
   "cell_type": "code",
   "execution_count": 4,
   "id": "0907b5b8-c122-4413-8959-433e16308f97",
   "metadata": {},
   "outputs": [],
   "source": [
    "start_date = '2022-07-16'\n",
    "end_date = '2022-10-19'"
   ]
  },
  {
   "cell_type": "code",
   "execution_count": 5,
   "id": "c6a54a00-44b6-4068-b35b-40978886ed31",
   "metadata": {},
   "outputs": [],
   "source": [
    "data = read_from_files(\n",
    "    DIR_INPUT = './data-transformed/',\n",
    "    BEGIN_DATE = start_date,\n",
    "    END_DATE = end_date\n",
    ")"
   ]
  },
  {
   "cell_type": "markdown",
   "id": "94828e31-895d-45df-b26c-901c40ae883f",
   "metadata": {},
   "source": [
    "### Features Selection"
   ]
  },
  {
   "cell_type": "code",
   "execution_count": 6,
   "id": "0d81cc39-5584-452f-84c3-2c772e5cd381",
   "metadata": {},
   "outputs": [],
   "source": [
    "features = [\n",
    "    'tx_amount', 'tx_during_weekend', 'tx_during_night',\n",
    "    'customer_id_nb_tx_1day_window', 'customer_id_avg_amount_1day_window',\n",
    "    'customer_id_nb_tx_7day_window', 'customer_id_avg_amount_7day_window',\n",
    "    'customer_id_nb_tx_30day_window', 'customer_id_avg_amount_30day_window',\n",
    "    'terminal_id_nb_tx_1day_window', 'terminal_id_risk_1day_window',\n",
    "    'terminal_id_nb_tx_7day_window', 'terminal_id_risk_7day_window',\n",
    "    'terminal_id_nb_tx_30day_window', 'terminal_id_risk_30day_window'\n",
    "]\n",
    "\n",
    "target = 'tx_fraud'"
   ]
  },
  {
   "cell_type": "markdown",
   "id": "c6b594cb-9d5f-4315-963f-7dcea32828fb",
   "metadata": {},
   "source": [
    "### Primary Parameters"
   ]
  },
  {
   "cell_type": "code",
   "execution_count": 7,
   "id": "7420ef64-fa06-4fe4-b96b-1c85824533ba",
   "metadata": {},
   "outputs": [],
   "source": [
    "%run __primary_parameters.ipynb"
   ]
  },
  {
   "cell_type": "code",
   "execution_count": 8,
   "id": "066170b9-9e60-4e91-a141-770cf3276fff",
   "metadata": {},
   "outputs": [],
   "source": [
    "models_list = ['Logistic Regression', 'Random Forest', 'XGBoost', 'LightGBM']"
   ]
  },
  {
   "cell_type": "markdown",
   "id": "7e59ea1a-99f4-4db8-bdc9-edcfc05a5184",
   "metadata": {},
   "source": [
    "### Hyperparameters"
   ]
  },
  {
   "cell_type": "code",
   "execution_count": 9,
   "id": "485e8582-1e36-43a8-9325-319cc2656d89",
   "metadata": {},
   "outputs": [],
   "source": [
    "hyper_dict = pd.read_pickle(r'_hyperparameters_base.pkl')"
   ]
  },
  {
   "cell_type": "code",
   "execution_count": 10,
   "id": "bfa2fa6a-49ed-4c3c-8f3f-2b30d3091ae0",
   "metadata": {},
   "outputs": [],
   "source": [
    "params_lr = extract_hyperparams(hyper_dict, 'Logistic Regression', kind='list')\n",
    "params_rf = extract_hyperparams(hyper_dict, 'Random Forest', kind='list')\n",
    "params_xgb = extract_hyperparams(hyper_dict, 'XGBoost', kind='list')\n",
    "params_lgb = extract_hyperparams(hyper_dict, 'LightGBM', kind='list')"
   ]
  },
  {
   "cell_type": "markdown",
   "id": "bcf6716f-dac8-43e4-ab3a-8737d896b482",
   "metadata": {},
   "source": [
    "### Training and Evaluation Models"
   ]
  },
  {
   "cell_type": "markdown",
   "id": "c6f567a4-ed19-4441-9b42-d38ff49b8aa1",
   "metadata": {},
   "source": [
    "#### Logistic Regression"
   ]
  },
  {
   "cell_type": "markdown",
   "id": "d0c424d1-964e-4a73-a8f2-c53b409fcaf5",
   "metadata": {},
   "source": [
    "##### LR RUS"
   ]
  },
  {
   "cell_type": "code",
   "execution_count": 11,
   "id": "42b3c503-9e90-47e4-bf1f-8ccd69c8dc7c",
   "metadata": {},
   "outputs": [],
   "source": [
    "clf_lr_rus = LogisticRegression()\n",
    "\n",
    "params_lr_rus = {f'clf__{i}': j for i, j in params_lr.items()}\n",
    "params_lr_rus.update(\n",
    "    {\n",
    "        'rus__sampling_strategy':[0.01, 0.05, 0.1, 0.5, 1]\n",
    "    }\n",
    ")\n",
    "\n",
    "preprop_lr_rus = [\n",
    "    ('scaler', StandardScaler()),\n",
    "    ('rus', RandomUnderSampler(sampling_strategy=0.5,random_state=seed))\n",
    "]\n",
    "\n",
    "grid_lr_rus = grid_create(\n",
    "    clf_lr_rus, params_lr_rus, preprop_lr_rus,\n",
    "    search_type='grid', key_params_idxs=[0,1]\n",
    ")"
   ]
  },
  {
   "cell_type": "code",
   "execution_count": 12,
   "id": "5b48fc86-f7c3-46a9-9539-008f45454d3d",
   "metadata": {},
   "outputs": [],
   "source": [
    "t_perf = time.time()\n",
    "performance_lr_rus = model_performance_CV(data, **grid_lr_rus)\n",
    "exec_time_lr_rus = time.time() - t_perf"
   ]
  },
  {
   "cell_type": "code",
   "execution_count": 13,
   "id": "c63ad841-408b-49a1-912f-383b7821395b",
   "metadata": {},
   "outputs": [
    {
     "data": {
      "text/plain": [
       "83.76973700523376"
      ]
     },
     "execution_count": 13,
     "metadata": {},
     "output_type": "execute_result"
    }
   ],
   "source": [
    "exec_time_lr_rus"
   ]
  },
  {
   "cell_type": "code",
   "execution_count": 14,
   "id": "8ce396b5-c6ec-4f8d-aea3-19fe0105dd37",
   "metadata": {},
   "outputs": [],
   "source": [
    "summary_lr_rus = get_summary_performances(performance_lr_rus, metrics)"
   ]
  },
  {
   "cell_type": "code",
   "execution_count": 15,
   "id": "59365227-49c4-41dd-94ac-ce50a258feb7",
   "metadata": {},
   "outputs": [
    {
     "data": {
      "text/html": [
       "<div>\n",
       "<style scoped>\n",
       "    .dataframe tbody tr th:only-of-type {\n",
       "        vertical-align: middle;\n",
       "    }\n",
       "\n",
       "    .dataframe tbody tr th {\n",
       "        vertical-align: top;\n",
       "    }\n",
       "\n",
       "    .dataframe thead th {\n",
       "        text-align: right;\n",
       "    }\n",
       "</style>\n",
       "<table border=\"1\" class=\"dataframe\">\n",
       "  <thead>\n",
       "    <tr style=\"text-align: right;\">\n",
       "      <th></th>\n",
       "      <th>AUC ROC</th>\n",
       "      <th>Average Precision</th>\n",
       "      <th>Card Precision@100</th>\n",
       "    </tr>\n",
       "  </thead>\n",
       "  <tbody>\n",
       "    <tr>\n",
       "      <th>Best estimated parameters</th>\n",
       "      <td>l2/1</td>\n",
       "      <td>l2/1</td>\n",
       "      <td>l2/1</td>\n",
       "    </tr>\n",
       "    <tr>\n",
       "      <th>Validation performance</th>\n",
       "      <td>0.880+/-0.010</td>\n",
       "      <td>0.635+/-0.023</td>\n",
       "      <td>0.315+/-0.015</td>\n",
       "    </tr>\n",
       "    <tr>\n",
       "      <th>Test performance</th>\n",
       "      <td>0.875+/-0.018</td>\n",
       "      <td>0.614+/-0.028</td>\n",
       "      <td>0.294+/-0.018</td>\n",
       "    </tr>\n",
       "    <tr>\n",
       "      <th>Optimal parameter(s)</th>\n",
       "      <td>l2/1</td>\n",
       "      <td>l2/1</td>\n",
       "      <td>l2/1</td>\n",
       "    </tr>\n",
       "    <tr>\n",
       "      <th>Optimal test performance</th>\n",
       "      <td>0.878+/-0.017</td>\n",
       "      <td>0.614+/-0.028</td>\n",
       "      <td>0.298+/-0.016</td>\n",
       "    </tr>\n",
       "  </tbody>\n",
       "</table>\n",
       "</div>"
      ],
      "text/plain": [
       "                                 AUC ROC Average Precision Card Precision@100\n",
       "Best estimated parameters           l2/1              l2/1               l2/1\n",
       "Validation performance     0.880+/-0.010     0.635+/-0.023      0.315+/-0.015\n",
       "Test performance           0.875+/-0.018     0.614+/-0.028      0.294+/-0.018\n",
       "Optimal parameter(s)                l2/1              l2/1               l2/1\n",
       "Optimal test performance   0.878+/-0.017     0.614+/-0.028      0.298+/-0.016"
      ]
     },
     "execution_count": 15,
     "metadata": {},
     "output_type": "execute_result"
    }
   ],
   "source": [
    "summary_lr_rus"
   ]
  },
  {
   "cell_type": "markdown",
   "id": "4eacb2a8-28aa-4eb3-9d54-2afe16cf4e8e",
   "metadata": {},
   "source": [
    "##### LR SMOTE+RUS"
   ]
  },
  {
   "cell_type": "code",
   "execution_count": 16,
   "id": "b58e29f6-aabe-4014-a9ec-2eac4f8e3c64",
   "metadata": {},
   "outputs": [],
   "source": [
    "clf_lr_smrus = LogisticRegression()\n",
    "\n",
    "params_lr_smrus = {f'clf__{i}': j for i, j in params_lr.items()}\n",
    "params_lr_smrus.update(\n",
    "    {\n",
    "        'clf__random_state':[seed],\n",
    "        'smote__sampling_strategy':[0.1, 0.5],\n",
    "        'rus__sampling_strategy':[0.5, 1],\n",
    "        'smote__random_state':[seed],\n",
    "        'rus__random_state':[seed]\n",
    "    }\n",
    ")\n",
    "\n",
    "preprop_lr_smrus = [\n",
    "    ('scaler', StandardScaler()),\n",
    "    ('smote', SMOTE(sampling_strategy=0.5, random_state=seed)),\n",
    "    ('rus', RandomUnderSampler(sampling_strategy=1.0,random_state=seed))\n",
    "]\n",
    "\n",
    "grid_lr_smrus = grid_create(\n",
    "    clf_lr_smrus, params_lr_smrus, preprop_lr_smrus,\n",
    "    search_type='grid', key_params_idxs=[0,2,3]\n",
    ")"
   ]
  },
  {
   "cell_type": "code",
   "execution_count": 17,
   "id": "51bc6f7a-402f-402e-8030-def5827ff6cf",
   "metadata": {},
   "outputs": [],
   "source": [
    "t_perf = time.time()\n",
    "performance_lr_smrus = model_performance_CV(data, **grid_lr_smrus)\n",
    "exec_time_lr_smrus = time.time() - t_perf"
   ]
  },
  {
   "cell_type": "code",
   "execution_count": 18,
   "id": "d9361a9e-52ca-412f-8a27-02b342a94f7d",
   "metadata": {},
   "outputs": [
    {
     "data": {
      "text/plain": [
       "32.21787905693054"
      ]
     },
     "execution_count": 18,
     "metadata": {},
     "output_type": "execute_result"
    }
   ],
   "source": [
    "exec_time_lr_smrus"
   ]
  },
  {
   "cell_type": "code",
   "execution_count": 19,
   "id": "8ec8ebe0-e200-47de-8766-9ab4ff12e2c4",
   "metadata": {},
   "outputs": [],
   "source": [
    "summary_lr_smrus = get_summary_performances(performance_lr_smrus, metrics)"
   ]
  },
  {
   "cell_type": "code",
   "execution_count": 20,
   "id": "ecf353a3-1930-4149-963f-cbbda8b5fd89",
   "metadata": {},
   "outputs": [
    {
     "data": {
      "text/html": [
       "<div>\n",
       "<style scoped>\n",
       "    .dataframe tbody tr th:only-of-type {\n",
       "        vertical-align: middle;\n",
       "    }\n",
       "\n",
       "    .dataframe tbody tr th {\n",
       "        vertical-align: top;\n",
       "    }\n",
       "\n",
       "    .dataframe thead th {\n",
       "        text-align: right;\n",
       "    }\n",
       "</style>\n",
       "<table border=\"1\" class=\"dataframe\">\n",
       "  <thead>\n",
       "    <tr style=\"text-align: right;\">\n",
       "      <th></th>\n",
       "      <th>AUC ROC</th>\n",
       "      <th>Average Precision</th>\n",
       "      <th>Card Precision@100</th>\n",
       "    </tr>\n",
       "  </thead>\n",
       "  <tbody>\n",
       "    <tr>\n",
       "      <th>Best estimated parameters</th>\n",
       "      <td>l2/saga/5000</td>\n",
       "      <td>l2/saga/5000</td>\n",
       "      <td>l2/saga/5000</td>\n",
       "    </tr>\n",
       "    <tr>\n",
       "      <th>Validation performance</th>\n",
       "      <td>0.879+/-0.012</td>\n",
       "      <td>0.560+/-0.072</td>\n",
       "      <td>0.311+/-0.015</td>\n",
       "    </tr>\n",
       "    <tr>\n",
       "      <th>Test performance</th>\n",
       "      <td>0.879+/-0.017</td>\n",
       "      <td>0.578+/-0.021</td>\n",
       "      <td>0.290+/-0.018</td>\n",
       "    </tr>\n",
       "    <tr>\n",
       "      <th>Optimal parameter(s)</th>\n",
       "      <td>l2/saga/5000</td>\n",
       "      <td>l2/saga/5000</td>\n",
       "      <td>l2/saga/5000</td>\n",
       "    </tr>\n",
       "    <tr>\n",
       "      <th>Optimal test performance</th>\n",
       "      <td>0.880+/-0.017</td>\n",
       "      <td>0.584+/-0.024</td>\n",
       "      <td>0.291+/-0.018</td>\n",
       "    </tr>\n",
       "  </tbody>\n",
       "</table>\n",
       "</div>"
      ],
      "text/plain": [
       "                                 AUC ROC Average Precision Card Precision@100\n",
       "Best estimated parameters   l2/saga/5000      l2/saga/5000       l2/saga/5000\n",
       "Validation performance     0.879+/-0.012     0.560+/-0.072      0.311+/-0.015\n",
       "Test performance           0.879+/-0.017     0.578+/-0.021      0.290+/-0.018\n",
       "Optimal parameter(s)        l2/saga/5000      l2/saga/5000       l2/saga/5000\n",
       "Optimal test performance   0.880+/-0.017     0.584+/-0.024      0.291+/-0.018"
      ]
     },
     "execution_count": 20,
     "metadata": {},
     "output_type": "execute_result"
    }
   ],
   "source": [
    "summary_lr_smrus"
   ]
  },
  {
   "cell_type": "markdown",
   "id": "b894ee40-5012-45d3-89a6-68bbf1047488",
   "metadata": {},
   "source": [
    "##### LR Weighted"
   ]
  },
  {
   "cell_type": "code",
   "execution_count": 21,
   "id": "c013e51a-0179-4187-8f21-e93a094a6343",
   "metadata": {},
   "outputs": [],
   "source": [
    "clf_lr_weight = LogisticRegression()\n",
    "\n",
    "params_lr_weight = {f'clf__{i}': j for i, j in params_lr.items()}\n",
    "params_lr_weight.update(\n",
    "    {\n",
    "        'clf__class_weight': [{0: w} for w in [ir, 0.1, 0.5, 1]],\n",
    "        'clf__random_state':[seed]\n",
    "    }\n",
    ")\n",
    "\n",
    "preprop_lr_weight = [\n",
    "    ('scaler', StandardScaler()),\n",
    "]\n",
    "\n",
    "grid_lr_weight = grid_create(\n",
    "    clf_lr_weight, params_lr_weight, preprop_lr_weight,\n",
    "    search_type='grid', key_params_idxs=[0,1]\n",
    ")"
   ]
  },
  {
   "cell_type": "code",
   "execution_count": 22,
   "id": "21adaddb-d2f5-49c1-9070-07e884e3a21b",
   "metadata": {},
   "outputs": [],
   "source": [
    "t_perf = time.time()\n",
    "performance_lr_weight = model_performance_CV(data, **grid_lr_weight)\n",
    "exec_time_lr_weight = time.time() - t_perf"
   ]
  },
  {
   "cell_type": "code",
   "execution_count": 23,
   "id": "d88b2938-92b4-4669-96a4-933ba183df3b",
   "metadata": {},
   "outputs": [
    {
     "data": {
      "text/plain": [
       "163.10336995124817"
      ]
     },
     "execution_count": 23,
     "metadata": {},
     "output_type": "execute_result"
    }
   ],
   "source": [
    "exec_time_lr_weight"
   ]
  },
  {
   "cell_type": "code",
   "execution_count": 24,
   "id": "4c74cc8d-a136-4166-af8d-88992ff4aeb2",
   "metadata": {},
   "outputs": [],
   "source": [
    "summary_lr_weight = get_summary_performances(performance_lr_weight, metrics)"
   ]
  },
  {
   "cell_type": "code",
   "execution_count": 25,
   "id": "c5e2b9dc-a197-4b36-b039-cb988846053e",
   "metadata": {},
   "outputs": [
    {
     "data": {
      "text/html": [
       "<div>\n",
       "<style scoped>\n",
       "    .dataframe tbody tr th:only-of-type {\n",
       "        vertical-align: middle;\n",
       "    }\n",
       "\n",
       "    .dataframe tbody tr th {\n",
       "        vertical-align: top;\n",
       "    }\n",
       "\n",
       "    .dataframe thead th {\n",
       "        text-align: right;\n",
       "    }\n",
       "</style>\n",
       "<table border=\"1\" class=\"dataframe\">\n",
       "  <thead>\n",
       "    <tr style=\"text-align: right;\">\n",
       "      <th></th>\n",
       "      <th>AUC ROC</th>\n",
       "      <th>Average Precision</th>\n",
       "      <th>Card Precision@100</th>\n",
       "    </tr>\n",
       "  </thead>\n",
       "  <tbody>\n",
       "    <tr>\n",
       "      <th>Best estimated parameters</th>\n",
       "      <td>l2/1</td>\n",
       "      <td>l2/1</td>\n",
       "      <td>l2/1</td>\n",
       "    </tr>\n",
       "    <tr>\n",
       "      <th>Validation performance</th>\n",
       "      <td>0.878+/-0.010</td>\n",
       "      <td>0.635+/-0.022</td>\n",
       "      <td>0.314+/-0.014</td>\n",
       "    </tr>\n",
       "    <tr>\n",
       "      <th>Test performance</th>\n",
       "      <td>0.879+/-0.016</td>\n",
       "      <td>0.614+/-0.028</td>\n",
       "      <td>0.295+/-0.016</td>\n",
       "    </tr>\n",
       "    <tr>\n",
       "      <th>Optimal parameter(s)</th>\n",
       "      <td>l2/1</td>\n",
       "      <td>l2/1</td>\n",
       "      <td>l2/1</td>\n",
       "    </tr>\n",
       "    <tr>\n",
       "      <th>Optimal test performance</th>\n",
       "      <td>0.879+/-0.016</td>\n",
       "      <td>0.614+/-0.028</td>\n",
       "      <td>0.298+/-0.016</td>\n",
       "    </tr>\n",
       "  </tbody>\n",
       "</table>\n",
       "</div>"
      ],
      "text/plain": [
       "                                 AUC ROC Average Precision Card Precision@100\n",
       "Best estimated parameters           l2/1              l2/1               l2/1\n",
       "Validation performance     0.878+/-0.010     0.635+/-0.022      0.314+/-0.014\n",
       "Test performance           0.879+/-0.016     0.614+/-0.028      0.295+/-0.016\n",
       "Optimal parameter(s)                l2/1              l2/1               l2/1\n",
       "Optimal test performance   0.879+/-0.016     0.614+/-0.028      0.298+/-0.016"
      ]
     },
     "execution_count": 25,
     "metadata": {},
     "output_type": "execute_result"
    }
   ],
   "source": [
    "summary_lr_weight"
   ]
  },
  {
   "cell_type": "markdown",
   "id": "a821e2b3-8e2e-4c31-95d5-6bd1339fbc4c",
   "metadata": {},
   "source": [
    "#### Random Forest"
   ]
  },
  {
   "cell_type": "markdown",
   "id": "28c2b129-7884-46d4-914f-0881f1d0357a",
   "metadata": {},
   "source": [
    "**RF RUS**"
   ]
  },
  {
   "cell_type": "code",
   "execution_count": 26,
   "id": "c692965a-0e1c-40db-ab48-efb80ae59ced",
   "metadata": {},
   "outputs": [],
   "source": [
    "clf_rf_rus = RandomForestClassifier()\n",
    "\n",
    "params_rf_rus = {f'clf__{i}': j for i, j in params_rf.items()}\n",
    "params_rf_rus.update(\n",
    "    {\n",
    "        'clf__random_state':[seed],\n",
    "        'rus__sampling_strategy':[0.01, 0.05, 0.1, 0.5, 1]\n",
    "    }\n",
    ")\n",
    "\n",
    "preprop_rf_rus = [\n",
    "    ('scaler', StandardScaler()),\n",
    "    ('rus', RandomUnderSampler(sampling_strategy=0.5,random_state=seed))\n",
    "]\n",
    "\n",
    "grid_rf_rus = grid_create(\n",
    "    clf_rf_rus, params_rf_rus, preprop_rf_rus,\n",
    "    search_type='grid', key_params_idxs=[0,1,3]\n",
    ")"
   ]
  },
  {
   "cell_type": "code",
   "execution_count": 27,
   "id": "3548bbc5-a63c-4b9b-a569-9e771733ec3b",
   "metadata": {},
   "outputs": [],
   "source": [
    "t_perf = time.time()\n",
    "performance_rf_rus = model_performance_CV(data, **grid_rf_rus)\n",
    "exec_time_rf_rus = time.time() - t_perf"
   ]
  },
  {
   "cell_type": "code",
   "execution_count": 28,
   "id": "a659a7da-cc84-45f7-9770-1b914497a96b",
   "metadata": {},
   "outputs": [
    {
     "data": {
      "text/plain": [
       "360.24807691574097"
      ]
     },
     "execution_count": 28,
     "metadata": {},
     "output_type": "execute_result"
    }
   ],
   "source": [
    "exec_time_rf_rus"
   ]
  },
  {
   "cell_type": "code",
   "execution_count": 29,
   "id": "d0f4840f-4140-4317-b25b-a0d3d56c8ed7",
   "metadata": {},
   "outputs": [],
   "source": [
    "summary_rf_rus = get_summary_performances(performance_rf_rus, metrics)"
   ]
  },
  {
   "cell_type": "code",
   "execution_count": 30,
   "id": "d264a3b9-0073-4f9a-a524-1abd316a2f25",
   "metadata": {},
   "outputs": [
    {
     "data": {
      "text/html": [
       "<div>\n",
       "<style scoped>\n",
       "    .dataframe tbody tr th:only-of-type {\n",
       "        vertical-align: middle;\n",
       "    }\n",
       "\n",
       "    .dataframe tbody tr th {\n",
       "        vertical-align: top;\n",
       "    }\n",
       "\n",
       "    .dataframe thead th {\n",
       "        text-align: right;\n",
       "    }\n",
       "</style>\n",
       "<table border=\"1\" class=\"dataframe\">\n",
       "  <thead>\n",
       "    <tr style=\"text-align: right;\">\n",
       "      <th></th>\n",
       "      <th>AUC ROC</th>\n",
       "      <th>Average Precision</th>\n",
       "      <th>Card Precision@100</th>\n",
       "    </tr>\n",
       "  </thead>\n",
       "  <tbody>\n",
       "    <tr>\n",
       "      <th>Best estimated parameters</th>\n",
       "      <td>150/25/0.1</td>\n",
       "      <td>150/25/0.01</td>\n",
       "      <td>150/25/0.01</td>\n",
       "    </tr>\n",
       "    <tr>\n",
       "      <th>Validation performance</th>\n",
       "      <td>0.885+/-0.012</td>\n",
       "      <td>0.700+/-0.012</td>\n",
       "      <td>0.322+/-0.018</td>\n",
       "    </tr>\n",
       "    <tr>\n",
       "      <th>Test performance</th>\n",
       "      <td>0.872+/-0.021</td>\n",
       "      <td>0.678+/-0.034</td>\n",
       "      <td>0.306+/-0.018</td>\n",
       "    </tr>\n",
       "    <tr>\n",
       "      <th>Optimal parameter(s)</th>\n",
       "      <td>150/25/0.01</td>\n",
       "      <td>150/25/0.01</td>\n",
       "      <td>150/25/0.1</td>\n",
       "    </tr>\n",
       "    <tr>\n",
       "      <th>Optimal test performance</th>\n",
       "      <td>0.874+/-0.024</td>\n",
       "      <td>0.678+/-0.034</td>\n",
       "      <td>0.307+/-0.019</td>\n",
       "    </tr>\n",
       "  </tbody>\n",
       "</table>\n",
       "</div>"
      ],
      "text/plain": [
       "                                 AUC ROC Average Precision Card Precision@100\n",
       "Best estimated parameters     150/25/0.1       150/25/0.01        150/25/0.01\n",
       "Validation performance     0.885+/-0.012     0.700+/-0.012      0.322+/-0.018\n",
       "Test performance           0.872+/-0.021     0.678+/-0.034      0.306+/-0.018\n",
       "Optimal parameter(s)         150/25/0.01       150/25/0.01         150/25/0.1\n",
       "Optimal test performance   0.874+/-0.024     0.678+/-0.034      0.307+/-0.019"
      ]
     },
     "execution_count": 30,
     "metadata": {},
     "output_type": "execute_result"
    }
   ],
   "source": [
    "summary_rf_rus"
   ]
  },
  {
   "cell_type": "markdown",
   "id": "ccfd09a4-ffc2-45f1-b07c-f429212c195d",
   "metadata": {},
   "source": [
    "##### RF SMOTE+RUS"
   ]
  },
  {
   "cell_type": "code",
   "execution_count": 31,
   "id": "1bbaea7e-72c2-46ee-9577-fc2fe51722df",
   "metadata": {},
   "outputs": [],
   "source": [
    "clf_rf_smrus = RandomForestClassifier()\n",
    "\n",
    "params_rf_smrus = {f'clf__{i}': j for i, j in params_rf.items()}\n",
    "params_rf_smrus.update(\n",
    "    {\n",
    "        'clf__random_state':[seed],\n",
    "        'smote__sampling_strategy':[0.1, 0.5],\n",
    "        'rus__sampling_strategy':[0.5, 1],\n",
    "        'smote__random_state':[seed],\n",
    "        'rus__random_state':[seed]\n",
    "    }\n",
    ")\n",
    "\n",
    "preprop_rf_smrus = [\n",
    "    ('scaler', StandardScaler()),\n",
    "    ('smote', SMOTE(sampling_strategy=0.5, random_state=seed)),\n",
    "    ('rus', RandomUnderSampler(sampling_strategy=1.0,random_state=seed))\n",
    "]\n",
    "\n",
    "grid_rf_smrus = grid_create(\n",
    "    clf_rf_smrus, params_rf_smrus, preprop_rf_smrus,\n",
    "    search_type='grid', key_params_idxs=[0,1,3,4]\n",
    ")"
   ]
  },
  {
   "cell_type": "code",
   "execution_count": 32,
   "id": "8fcea7e8-5839-4004-8da2-82a7f17702fd",
   "metadata": {},
   "outputs": [],
   "source": [
    "t_perf = time.time()\n",
    "performance_rf_smrus = model_performance_CV(data, **grid_rf_smrus)\n",
    "exec_time_rf_smrus = time.time() - t_perf"
   ]
  },
  {
   "cell_type": "code",
   "execution_count": 33,
   "id": "8a3029bd-51a2-40e2-9bbb-0ee41e17bcce",
   "metadata": {},
   "outputs": [
    {
     "data": {
      "text/plain": [
       "584.8601472377777"
      ]
     },
     "execution_count": 33,
     "metadata": {},
     "output_type": "execute_result"
    }
   ],
   "source": [
    "exec_time_rf_smrus"
   ]
  },
  {
   "cell_type": "code",
   "execution_count": 34,
   "id": "371aebc4-1c89-4e9c-b62e-3f8273a28065",
   "metadata": {},
   "outputs": [],
   "source": [
    "summary_rf_smrus = get_summary_performances(performance_rf_smrus, metrics)"
   ]
  },
  {
   "cell_type": "code",
   "execution_count": 35,
   "id": "04f9bd55-7e74-459d-86cc-ec6cb1bc6f51",
   "metadata": {},
   "outputs": [
    {
     "data": {
      "text/html": [
       "<div>\n",
       "<style scoped>\n",
       "    .dataframe tbody tr th:only-of-type {\n",
       "        vertical-align: middle;\n",
       "    }\n",
       "\n",
       "    .dataframe tbody tr th {\n",
       "        vertical-align: top;\n",
       "    }\n",
       "\n",
       "    .dataframe thead th {\n",
       "        text-align: right;\n",
       "    }\n",
       "</style>\n",
       "<table border=\"1\" class=\"dataframe\">\n",
       "  <thead>\n",
       "    <tr style=\"text-align: right;\">\n",
       "      <th></th>\n",
       "      <th>AUC ROC</th>\n",
       "      <th>Average Precision</th>\n",
       "      <th>Card Precision@100</th>\n",
       "    </tr>\n",
       "  </thead>\n",
       "  <tbody>\n",
       "    <tr>\n",
       "      <th>Best estimated parameters</th>\n",
       "      <td>150/25/0.1/0.5</td>\n",
       "      <td>150/25/0.5/0.5</td>\n",
       "      <td>150/25/0.1/0.5</td>\n",
       "    </tr>\n",
       "    <tr>\n",
       "      <th>Validation performance</th>\n",
       "      <td>0.880+/-0.012</td>\n",
       "      <td>0.659+/-0.023</td>\n",
       "      <td>0.318+/-0.017</td>\n",
       "    </tr>\n",
       "    <tr>\n",
       "      <th>Test performance</th>\n",
       "      <td>0.875+/-0.018</td>\n",
       "      <td>0.627+/-0.034</td>\n",
       "      <td>0.302+/-0.018</td>\n",
       "    </tr>\n",
       "    <tr>\n",
       "      <th>Optimal parameter(s)</th>\n",
       "      <td>150/25/0.1/0.5</td>\n",
       "      <td>150/25/0.5/0.5</td>\n",
       "      <td>150/25/0.1/0.5</td>\n",
       "    </tr>\n",
       "    <tr>\n",
       "      <th>Optimal test performance</th>\n",
       "      <td>0.875+/-0.018</td>\n",
       "      <td>0.627+/-0.034</td>\n",
       "      <td>0.302+/-0.018</td>\n",
       "    </tr>\n",
       "  </tbody>\n",
       "</table>\n",
       "</div>"
      ],
      "text/plain": [
       "                                  AUC ROC Average Precision Card Precision@100\n",
       "Best estimated parameters  150/25/0.1/0.5    150/25/0.5/0.5     150/25/0.1/0.5\n",
       "Validation performance      0.880+/-0.012     0.659+/-0.023      0.318+/-0.017\n",
       "Test performance            0.875+/-0.018     0.627+/-0.034      0.302+/-0.018\n",
       "Optimal parameter(s)       150/25/0.1/0.5    150/25/0.5/0.5     150/25/0.1/0.5\n",
       "Optimal test performance    0.875+/-0.018     0.627+/-0.034      0.302+/-0.018"
      ]
     },
     "execution_count": 35,
     "metadata": {},
     "output_type": "execute_result"
    }
   ],
   "source": [
    "summary_rf_smrus"
   ]
  },
  {
   "cell_type": "markdown",
   "id": "127167db-8b5c-40c9-ad91-1b999a48f308",
   "metadata": {},
   "source": [
    "##### RF Weighted"
   ]
  },
  {
   "cell_type": "code",
   "execution_count": 36,
   "id": "d878435c-7ac7-48a9-928c-9f7d49aae710",
   "metadata": {},
   "outputs": [],
   "source": [
    "clf_rf_weight = RandomForestClassifier()\n",
    "\n",
    "params_rf_weight = {f'clf__{i}': j for i, j in params_rf.items()}\n",
    "params_rf_weight.update(\n",
    "    {\n",
    "        'clf__class_weight': [{0: w} for w in [ir, 0.1, 0.5, 1]],\n",
    "        'clf__random_state':[seed]\n",
    "    }\n",
    ")\n",
    "\n",
    "preprop_rf_weight = [\n",
    "    ('scaler', StandardScaler()),\n",
    "]\n",
    "\n",
    "grid_rf_weight = grid_create(\n",
    "    clf_rf_weight, params_rf_weight, preprop_rf_weight,\n",
    "    search_type='grid', key_params_idxs=[0,1,2]\n",
    ")"
   ]
  },
  {
   "cell_type": "code",
   "execution_count": 37,
   "id": "2d373a47-1495-4d64-9287-2c7c7440788c",
   "metadata": {},
   "outputs": [],
   "source": [
    "t_perf = time.time()\n",
    "performance_rf_weight = model_performance_CV(data, **grid_rf_weight)\n",
    "exec_time_rf_weight = time.time() - t_perf"
   ]
  },
  {
   "cell_type": "code",
   "execution_count": 38,
   "id": "1ffd9fd5-dead-4457-a4d2-01ba3ab7c120",
   "metadata": {},
   "outputs": [
    {
     "data": {
      "text/plain": [
       "715.435553073883"
      ]
     },
     "execution_count": 38,
     "metadata": {},
     "output_type": "execute_result"
    }
   ],
   "source": [
    "exec_time_rf_weight"
   ]
  },
  {
   "cell_type": "code",
   "execution_count": 39,
   "id": "56442183-b43e-42bf-a2d2-c409e0713d55",
   "metadata": {},
   "outputs": [],
   "source": [
    "summary_rf_weight = get_summary_performances(performance_rf_weight, metrics)"
   ]
  },
  {
   "cell_type": "code",
   "execution_count": 40,
   "id": "ea56b810-3bb1-46b1-bae5-d3b2bce6301c",
   "metadata": {},
   "outputs": [
    {
     "data": {
      "text/html": [
       "<div>\n",
       "<style scoped>\n",
       "    .dataframe tbody tr th:only-of-type {\n",
       "        vertical-align: middle;\n",
       "    }\n",
       "\n",
       "    .dataframe tbody tr th {\n",
       "        vertical-align: top;\n",
       "    }\n",
       "\n",
       "    .dataframe thead th {\n",
       "        text-align: right;\n",
       "    }\n",
       "</style>\n",
       "<table border=\"1\" class=\"dataframe\">\n",
       "  <thead>\n",
       "    <tr style=\"text-align: right;\">\n",
       "      <th></th>\n",
       "      <th>AUC ROC</th>\n",
       "      <th>Average Precision</th>\n",
       "      <th>Card Precision@100</th>\n",
       "    </tr>\n",
       "  </thead>\n",
       "  <tbody>\n",
       "    <tr>\n",
       "      <th>Best estimated parameters</th>\n",
       "      <td>150/25/42</td>\n",
       "      <td>150/25/42</td>\n",
       "      <td>150/25/42</td>\n",
       "    </tr>\n",
       "    <tr>\n",
       "      <th>Validation performance</th>\n",
       "      <td>0.874+/-0.006</td>\n",
       "      <td>0.701+/-0.013</td>\n",
       "      <td>0.321+/-0.018</td>\n",
       "    </tr>\n",
       "    <tr>\n",
       "      <th>Test performance</th>\n",
       "      <td>0.872+/-0.019</td>\n",
       "      <td>0.678+/-0.029</td>\n",
       "      <td>0.305+/-0.017</td>\n",
       "    </tr>\n",
       "    <tr>\n",
       "      <th>Optimal parameter(s)</th>\n",
       "      <td>150/25/42</td>\n",
       "      <td>150/25/42</td>\n",
       "      <td>150/25/42</td>\n",
       "    </tr>\n",
       "    <tr>\n",
       "      <th>Optimal test performance</th>\n",
       "      <td>0.878+/-0.018</td>\n",
       "      <td>0.680+/-0.030</td>\n",
       "      <td>0.307+/-0.019</td>\n",
       "    </tr>\n",
       "  </tbody>\n",
       "</table>\n",
       "</div>"
      ],
      "text/plain": [
       "                                 AUC ROC Average Precision Card Precision@100\n",
       "Best estimated parameters      150/25/42         150/25/42          150/25/42\n",
       "Validation performance     0.874+/-0.006     0.701+/-0.013      0.321+/-0.018\n",
       "Test performance           0.872+/-0.019     0.678+/-0.029      0.305+/-0.017\n",
       "Optimal parameter(s)           150/25/42         150/25/42          150/25/42\n",
       "Optimal test performance   0.878+/-0.018     0.680+/-0.030      0.307+/-0.019"
      ]
     },
     "execution_count": 40,
     "metadata": {},
     "output_type": "execute_result"
    }
   ],
   "source": [
    "summary_rf_weight"
   ]
  },
  {
   "cell_type": "markdown",
   "id": "b788a81d-7ca8-4ef2-9a5f-d6b8ebd4fde9",
   "metadata": {},
   "source": [
    "#### XGBoost"
   ]
  },
  {
   "cell_type": "markdown",
   "id": "1c068871-48d6-4760-899d-38c0cdd298c0",
   "metadata": {},
   "source": [
    "##### XGB RUS"
   ]
  },
  {
   "cell_type": "code",
   "execution_count": 41,
   "id": "36f880ea-bd53-4fc3-8911-e9796ba1eb67",
   "metadata": {},
   "outputs": [],
   "source": [
    "clf_xgb_rus = XGBClassifier()\n",
    "params_xgb_rus = {f'clf__{i}': j for i, j in params_xgb.items()}\n",
    "params_xgb_rus.update(\n",
    "    {\n",
    "        'rus__sampling_strategy':[0.01, 0.05, 0.1, 0.5, 1],\n",
    "        'clf__random_state':[seed]\n",
    "    }\n",
    ")\n",
    "\n",
    "preprop_xgb_rus = [\n",
    "    ('scaler', StandardScaler()),\n",
    "    ('rus', RandomUnderSampler(sampling_strategy=0.5,random_state=seed))\n",
    "]\n",
    "\n",
    "grid_xgb_rus = grid_create(\n",
    "    clf_xgb_rus, params_xgb_rus, preprop_xgb_rus,\n",
    "    search_type='grid', key_params_idxs=[0,1,2,3]\n",
    ")"
   ]
  },
  {
   "cell_type": "code",
   "execution_count": 42,
   "id": "acd730a3-b865-44d5-9266-311c3d54dd2a",
   "metadata": {},
   "outputs": [],
   "source": [
    "t_perf = time.time()\n",
    "performance_xgb_rus = model_performance_CV(data, **grid_xgb_rus)\n",
    "exec_time_xgb_rus = time.time() - t_perf"
   ]
  },
  {
   "cell_type": "code",
   "execution_count": 43,
   "id": "bdb12f08-fdd9-49a8-9dfb-66bed529afc4",
   "metadata": {},
   "outputs": [
    {
     "data": {
      "text/plain": [
       "123.82899212837219"
      ]
     },
     "execution_count": 43,
     "metadata": {},
     "output_type": "execute_result"
    }
   ],
   "source": [
    "exec_time_xgb_rus"
   ]
  },
  {
   "cell_type": "code",
   "execution_count": 44,
   "id": "57261968-3dfe-478e-b00f-93900e5dbc97",
   "metadata": {},
   "outputs": [],
   "source": [
    "summary_xgb_rus = get_summary_performances(performance_xgb_rus, metrics)"
   ]
  },
  {
   "cell_type": "code",
   "execution_count": 45,
   "id": "13b6f414-31b2-442f-a2d3-31c62ec87f11",
   "metadata": {},
   "outputs": [
    {
     "data": {
      "text/html": [
       "<div>\n",
       "<style scoped>\n",
       "    .dataframe tbody tr th:only-of-type {\n",
       "        vertical-align: middle;\n",
       "    }\n",
       "\n",
       "    .dataframe tbody tr th {\n",
       "        vertical-align: top;\n",
       "    }\n",
       "\n",
       "    .dataframe thead th {\n",
       "        text-align: right;\n",
       "    }\n",
       "</style>\n",
       "<table border=\"1\" class=\"dataframe\">\n",
       "  <thead>\n",
       "    <tr style=\"text-align: right;\">\n",
       "      <th></th>\n",
       "      <th>AUC ROC</th>\n",
       "      <th>Average Precision</th>\n",
       "      <th>Card Precision@100</th>\n",
       "    </tr>\n",
       "  </thead>\n",
       "  <tbody>\n",
       "    <tr>\n",
       "      <th>Best estimated parameters</th>\n",
       "      <td>150/3/0.1/42</td>\n",
       "      <td>150/3/0.1/42</td>\n",
       "      <td>150/3/0.1/42</td>\n",
       "    </tr>\n",
       "    <tr>\n",
       "      <th>Validation performance</th>\n",
       "      <td>0.875+/-0.009</td>\n",
       "      <td>0.699+/-0.010</td>\n",
       "      <td>0.321+/-0.017</td>\n",
       "    </tr>\n",
       "    <tr>\n",
       "      <th>Test performance</th>\n",
       "      <td>0.875+/-0.014</td>\n",
       "      <td>0.692+/-0.030</td>\n",
       "      <td>0.307+/-0.018</td>\n",
       "    </tr>\n",
       "    <tr>\n",
       "      <th>Optimal parameter(s)</th>\n",
       "      <td>150/3/0.1/42</td>\n",
       "      <td>150/3/0.1/42</td>\n",
       "      <td>150/3/0.1/42</td>\n",
       "    </tr>\n",
       "    <tr>\n",
       "      <th>Optimal test performance</th>\n",
       "      <td>0.876+/-0.013</td>\n",
       "      <td>0.692+/-0.030</td>\n",
       "      <td>0.307+/-0.018</td>\n",
       "    </tr>\n",
       "  </tbody>\n",
       "</table>\n",
       "</div>"
      ],
      "text/plain": [
       "                                 AUC ROC Average Precision Card Precision@100\n",
       "Best estimated parameters   150/3/0.1/42      150/3/0.1/42       150/3/0.1/42\n",
       "Validation performance     0.875+/-0.009     0.699+/-0.010      0.321+/-0.017\n",
       "Test performance           0.875+/-0.014     0.692+/-0.030      0.307+/-0.018\n",
       "Optimal parameter(s)        150/3/0.1/42      150/3/0.1/42       150/3/0.1/42\n",
       "Optimal test performance   0.876+/-0.013     0.692+/-0.030      0.307+/-0.018"
      ]
     },
     "execution_count": 45,
     "metadata": {},
     "output_type": "execute_result"
    }
   ],
   "source": [
    "summary_xgb_rus"
   ]
  },
  {
   "cell_type": "markdown",
   "id": "7aecce42-57e3-43f4-9a9f-20c28c0be351",
   "metadata": {},
   "source": [
    "##### XGB SMOTE+RUS"
   ]
  },
  {
   "cell_type": "code",
   "execution_count": 46,
   "id": "8653397c-c079-4b7a-aa49-57d1cad8a5d7",
   "metadata": {},
   "outputs": [],
   "source": [
    "clf_xgb_smrus = XGBClassifier()\n",
    "params_xgb_smrus = {f'clf__{i}': j for i, j in params_xgb.items()}\n",
    "params_xgb_smrus.update(\n",
    "    {\n",
    "        'clf__random_state':[seed],\n",
    "        'smote__sampling_strategy':[0.1, 0.5],\n",
    "        'rus__sampling_strategy':[0.5, 1],\n",
    "        'smote__random_state':[seed],\n",
    "        'rus__random_state':[seed]\n",
    "    }\n",
    ")\n",
    "\n",
    "preprop_xgb_smrus = [\n",
    "    ('scaler', StandardScaler()),\n",
    "    ('smote', SMOTE(sampling_strategy=0.5, random_state=seed)),\n",
    "    ('rus', RandomUnderSampler(sampling_strategy=1.0,random_state=seed))\n",
    "]\n",
    "\n",
    "grid_xgb_smrus = grid_create(\n",
    "    clf_xgb_smrus, params_xgb_smrus, preprop_xgb_smrus,\n",
    "    search_type='grid', key_params_idxs=[0,1,2,4,5]\n",
    ")"
   ]
  },
  {
   "cell_type": "code",
   "execution_count": 47,
   "id": "bd2c62ae-b6aa-4c2f-8ff9-e737277472bc",
   "metadata": {},
   "outputs": [],
   "source": [
    "t_perf = time.time()\n",
    "performance_xgb_smrus = model_performance_CV(data, **grid_xgb_smrus)\n",
    "exec_time_xgb_smrus = time.time() - t_perf"
   ]
  },
  {
   "cell_type": "code",
   "execution_count": 48,
   "id": "793a9ea5-0c55-4ed6-84cb-4dc7aecdea57",
   "metadata": {},
   "outputs": [
    {
     "data": {
      "text/plain": [
       "315.2075688838959"
      ]
     },
     "execution_count": 48,
     "metadata": {},
     "output_type": "execute_result"
    }
   ],
   "source": [
    "exec_time_xgb_smrus"
   ]
  },
  {
   "cell_type": "code",
   "execution_count": 49,
   "id": "c060fdd1-24f3-4708-abe7-17285795bd78",
   "metadata": {},
   "outputs": [],
   "source": [
    "summary_xgb_smrus = get_summary_performances(performance_xgb_smrus, metrics)"
   ]
  },
  {
   "cell_type": "code",
   "execution_count": 50,
   "id": "f5089e85-7642-4204-85c2-2051857342a0",
   "metadata": {},
   "outputs": [
    {
     "data": {
      "text/html": [
       "<div>\n",
       "<style scoped>\n",
       "    .dataframe tbody tr th:only-of-type {\n",
       "        vertical-align: middle;\n",
       "    }\n",
       "\n",
       "    .dataframe tbody tr th {\n",
       "        vertical-align: top;\n",
       "    }\n",
       "\n",
       "    .dataframe thead th {\n",
       "        text-align: right;\n",
       "    }\n",
       "</style>\n",
       "<table border=\"1\" class=\"dataframe\">\n",
       "  <thead>\n",
       "    <tr style=\"text-align: right;\">\n",
       "      <th></th>\n",
       "      <th>AUC ROC</th>\n",
       "      <th>Average Precision</th>\n",
       "      <th>Card Precision@100</th>\n",
       "    </tr>\n",
       "  </thead>\n",
       "  <tbody>\n",
       "    <tr>\n",
       "      <th>Best estimated parameters</th>\n",
       "      <td>150/3/0.1/0.1/1</td>\n",
       "      <td>150/3/0.1/0.5/0.5</td>\n",
       "      <td>150/3/0.1/0.1/0.5</td>\n",
       "    </tr>\n",
       "    <tr>\n",
       "      <th>Validation performance</th>\n",
       "      <td>0.862+/-0.013</td>\n",
       "      <td>0.667+/-0.007</td>\n",
       "      <td>0.319+/-0.017</td>\n",
       "    </tr>\n",
       "    <tr>\n",
       "      <th>Test performance</th>\n",
       "      <td>0.863+/-0.020</td>\n",
       "      <td>0.640+/-0.022</td>\n",
       "      <td>0.303+/-0.017</td>\n",
       "    </tr>\n",
       "    <tr>\n",
       "      <th>Optimal parameter(s)</th>\n",
       "      <td>150/3/0.1/0.1/0.5</td>\n",
       "      <td>150/3/0.1/0.1/0.5</td>\n",
       "      <td>150/3/0.1/0.1/0.5</td>\n",
       "    </tr>\n",
       "    <tr>\n",
       "      <th>Optimal test performance</th>\n",
       "      <td>0.866+/-0.019</td>\n",
       "      <td>0.645+/-0.027</td>\n",
       "      <td>0.303+/-0.017</td>\n",
       "    </tr>\n",
       "  </tbody>\n",
       "</table>\n",
       "</div>"
      ],
      "text/plain": [
       "                                     AUC ROC  Average Precision  \\\n",
       "Best estimated parameters    150/3/0.1/0.1/1  150/3/0.1/0.5/0.5   \n",
       "Validation performance         0.862+/-0.013      0.667+/-0.007   \n",
       "Test performance               0.863+/-0.020      0.640+/-0.022   \n",
       "Optimal parameter(s)       150/3/0.1/0.1/0.5  150/3/0.1/0.1/0.5   \n",
       "Optimal test performance       0.866+/-0.019      0.645+/-0.027   \n",
       "\n",
       "                          Card Precision@100  \n",
       "Best estimated parameters  150/3/0.1/0.1/0.5  \n",
       "Validation performance         0.319+/-0.017  \n",
       "Test performance               0.303+/-0.017  \n",
       "Optimal parameter(s)       150/3/0.1/0.1/0.5  \n",
       "Optimal test performance       0.303+/-0.017  "
      ]
     },
     "execution_count": 50,
     "metadata": {},
     "output_type": "execute_result"
    }
   ],
   "source": [
    "summary_xgb_smrus"
   ]
  },
  {
   "cell_type": "markdown",
   "id": "5286b91c-b542-4bbe-a54b-59850c1a8cd3",
   "metadata": {},
   "source": [
    "##### XGB Weighted"
   ]
  },
  {
   "cell_type": "code",
   "execution_count": 51,
   "id": "c603cc0b-d59e-47ac-823d-1800faa68ba6",
   "metadata": {},
   "outputs": [],
   "source": [
    "clf_xgb_weight = XGBClassifier()\n",
    "\n",
    "params_xgb_weight = {f'clf__{i}': j for i, j in params_xgb.items()}\n",
    "params_xgb_weight.update(\n",
    "    {\n",
    "        'clf__scale_pos_weight': [5, 10, 50, 1/ir],\n",
    "        'clf__random_state':[seed]\n",
    "    }\n",
    ")\n",
    "\n",
    "preprop_xgb_weight = [\n",
    "    ('scaler', StandardScaler()),\n",
    "]\n",
    "\n",
    "grid_xgb_weight = grid_create(\n",
    "    clf_xgb_weight, params_xgb_weight, preprop_xgb_weight,\n",
    "    search_type='grid', key_params_idxs=[0,1,2,3]\n",
    ")"
   ]
  },
  {
   "cell_type": "code",
   "execution_count": 52,
   "id": "c9150f7c-897a-44f2-89af-03d65d1338c6",
   "metadata": {},
   "outputs": [],
   "source": [
    "t_perf = time.time()\n",
    "performance_xgb_weight = model_performance_CV(data, **grid_xgb_weight)\n",
    "exec_time_xgb_weight = time.time() - t_perf"
   ]
  },
  {
   "cell_type": "code",
   "execution_count": 53,
   "id": "1f4a23a4-4886-4f07-8054-416d69737a99",
   "metadata": {},
   "outputs": [
    {
     "data": {
      "text/plain": [
       "307.38476276397705"
      ]
     },
     "execution_count": 53,
     "metadata": {},
     "output_type": "execute_result"
    }
   ],
   "source": [
    "exec_time_xgb_weight"
   ]
  },
  {
   "cell_type": "code",
   "execution_count": 54,
   "id": "3828f856-c94e-4a86-ad6e-a29ef1f10ffe",
   "metadata": {},
   "outputs": [],
   "source": [
    "summary_xgb_weight = get_summary_performances(performance_xgb_weight, metrics)"
   ]
  },
  {
   "cell_type": "code",
   "execution_count": 55,
   "id": "20f3a269-f5e5-4635-92cd-5434cab62975",
   "metadata": {},
   "outputs": [
    {
     "data": {
      "text/html": [
       "<div>\n",
       "<style scoped>\n",
       "    .dataframe tbody tr th:only-of-type {\n",
       "        vertical-align: middle;\n",
       "    }\n",
       "\n",
       "    .dataframe tbody tr th {\n",
       "        vertical-align: top;\n",
       "    }\n",
       "\n",
       "    .dataframe thead th {\n",
       "        text-align: right;\n",
       "    }\n",
       "</style>\n",
       "<table border=\"1\" class=\"dataframe\">\n",
       "  <thead>\n",
       "    <tr style=\"text-align: right;\">\n",
       "      <th></th>\n",
       "      <th>AUC ROC</th>\n",
       "      <th>Average Precision</th>\n",
       "      <th>Card Precision@100</th>\n",
       "    </tr>\n",
       "  </thead>\n",
       "  <tbody>\n",
       "    <tr>\n",
       "      <th>Best estimated parameters</th>\n",
       "      <td>150/3/0.1/42</td>\n",
       "      <td>150/3/0.1/42</td>\n",
       "      <td>150/3/0.1/42</td>\n",
       "    </tr>\n",
       "    <tr>\n",
       "      <th>Validation performance</th>\n",
       "      <td>0.873+/-0.008</td>\n",
       "      <td>0.697+/-0.010</td>\n",
       "      <td>0.320+/-0.017</td>\n",
       "    </tr>\n",
       "    <tr>\n",
       "      <th>Test performance</th>\n",
       "      <td>0.877+/-0.014</td>\n",
       "      <td>0.687+/-0.031</td>\n",
       "      <td>0.305+/-0.016</td>\n",
       "    </tr>\n",
       "    <tr>\n",
       "      <th>Optimal parameter(s)</th>\n",
       "      <td>150/3/0.1/42</td>\n",
       "      <td>150/3/0.1/42</td>\n",
       "      <td>150/3/0.1/42</td>\n",
       "    </tr>\n",
       "    <tr>\n",
       "      <th>Optimal test performance</th>\n",
       "      <td>0.877+/-0.014</td>\n",
       "      <td>0.687+/-0.031</td>\n",
       "      <td>0.307+/-0.017</td>\n",
       "    </tr>\n",
       "  </tbody>\n",
       "</table>\n",
       "</div>"
      ],
      "text/plain": [
       "                                 AUC ROC Average Precision Card Precision@100\n",
       "Best estimated parameters   150/3/0.1/42      150/3/0.1/42       150/3/0.1/42\n",
       "Validation performance     0.873+/-0.008     0.697+/-0.010      0.320+/-0.017\n",
       "Test performance           0.877+/-0.014     0.687+/-0.031      0.305+/-0.016\n",
       "Optimal parameter(s)        150/3/0.1/42      150/3/0.1/42       150/3/0.1/42\n",
       "Optimal test performance   0.877+/-0.014     0.687+/-0.031      0.307+/-0.017"
      ]
     },
     "execution_count": 55,
     "metadata": {},
     "output_type": "execute_result"
    }
   ],
   "source": [
    "summary_xgb_weight"
   ]
  },
  {
   "cell_type": "markdown",
   "id": "61da6df2-4fa3-4c0d-940f-8aa7ca071d01",
   "metadata": {},
   "source": [
    "#### LightGBM"
   ]
  },
  {
   "cell_type": "markdown",
   "id": "2010e434-1033-4598-9aff-49a371633053",
   "metadata": {},
   "source": [
    "##### LGB RUS"
   ]
  },
  {
   "cell_type": "code",
   "execution_count": 56,
   "id": "98ff5f58-72fc-46a1-9eff-95960eaaa1a9",
   "metadata": {},
   "outputs": [],
   "source": [
    "clf_lgb_rus = LGBMClassifier()\n",
    "\n",
    "params_lgb_rus = {f'clf__{i}': j for i, j in params_lgb.items()}\n",
    "params_lgb_rus.update(\n",
    "    {\n",
    "        'clf__random_state':[seed],\n",
    "        'clf__verbose': [-1],\n",
    "        'rus__sampling_strategy':[0.01, 0.05, 0.1, 0.5, 1]\n",
    "    }\n",
    ")\n",
    "\n",
    "preprop_lgb_rus = [\n",
    "    ('scaler', StandardScaler()),\n",
    "    ('rus', RandomUnderSampler(sampling_strategy=0.5,random_state=seed))\n",
    "]\n",
    "\n",
    "grid_lgb_rus = grid_create(\n",
    "    clf_lgb_rus, params_lgb_rus, preprop_lgb_rus,\n",
    "    search_type='grid', key_params_idxs=[0,1,2,5]\n",
    ")"
   ]
  },
  {
   "cell_type": "code",
   "execution_count": 57,
   "id": "21034a16-1182-494c-beeb-cf1fdeeeae77",
   "metadata": {
    "scrolled": true
   },
   "outputs": [],
   "source": [
    "t_perf = time.time()\n",
    "performance_lgb_rus = model_performance_CV(data, **grid_lgb_rus)\n",
    "exec_time_lgb_rus = time.time() - t_perf"
   ]
  },
  {
   "cell_type": "code",
   "execution_count": 58,
   "id": "63d78501-5916-4770-bb50-d04320313df7",
   "metadata": {},
   "outputs": [
    {
     "data": {
      "text/plain": [
       "44.11504626274109"
      ]
     },
     "execution_count": 58,
     "metadata": {},
     "output_type": "execute_result"
    }
   ],
   "source": [
    "exec_time_lgb_rus"
   ]
  },
  {
   "cell_type": "code",
   "execution_count": 59,
   "id": "55f14e98-3ade-4238-ae32-410d53aba875",
   "metadata": {},
   "outputs": [],
   "source": [
    "summary_lgb_rus = get_summary_performances(performance_lgb_rus, metrics)"
   ]
  },
  {
   "cell_type": "code",
   "execution_count": 60,
   "id": "3579ca99-aed8-4496-8da8-bc114dee4e37",
   "metadata": {},
   "outputs": [
    {
     "data": {
      "text/html": [
       "<div>\n",
       "<style scoped>\n",
       "    .dataframe tbody tr th:only-of-type {\n",
       "        vertical-align: middle;\n",
       "    }\n",
       "\n",
       "    .dataframe tbody tr th {\n",
       "        vertical-align: top;\n",
       "    }\n",
       "\n",
       "    .dataframe thead th {\n",
       "        text-align: right;\n",
       "    }\n",
       "</style>\n",
       "<table border=\"1\" class=\"dataframe\">\n",
       "  <thead>\n",
       "    <tr style=\"text-align: right;\">\n",
       "      <th></th>\n",
       "      <th>AUC ROC</th>\n",
       "      <th>Average Precision</th>\n",
       "      <th>Card Precision@100</th>\n",
       "    </tr>\n",
       "  </thead>\n",
       "  <tbody>\n",
       "    <tr>\n",
       "      <th>Best estimated parameters</th>\n",
       "      <td>150/3/0.1/0.5</td>\n",
       "      <td>150/3/0.1/0.05</td>\n",
       "      <td>150/3/0.1/0.01</td>\n",
       "    </tr>\n",
       "    <tr>\n",
       "      <th>Validation performance</th>\n",
       "      <td>0.873+/-0.007</td>\n",
       "      <td>0.675+/-0.021</td>\n",
       "      <td>0.320+/-0.015</td>\n",
       "    </tr>\n",
       "    <tr>\n",
       "      <th>Test performance</th>\n",
       "      <td>0.872+/-0.015</td>\n",
       "      <td>0.670+/-0.037</td>\n",
       "      <td>0.303+/-0.015</td>\n",
       "    </tr>\n",
       "    <tr>\n",
       "      <th>Optimal parameter(s)</th>\n",
       "      <td>150/3/0.1/0.1</td>\n",
       "      <td>150/3/0.1/0.05</td>\n",
       "      <td>150/3/0.1/0.05</td>\n",
       "    </tr>\n",
       "    <tr>\n",
       "      <th>Optimal test performance</th>\n",
       "      <td>0.877+/-0.014</td>\n",
       "      <td>0.670+/-0.037</td>\n",
       "      <td>0.306+/-0.015</td>\n",
       "    </tr>\n",
       "  </tbody>\n",
       "</table>\n",
       "</div>"
      ],
      "text/plain": [
       "                                 AUC ROC Average Precision Card Precision@100\n",
       "Best estimated parameters  150/3/0.1/0.5    150/3/0.1/0.05     150/3/0.1/0.01\n",
       "Validation performance     0.873+/-0.007     0.675+/-0.021      0.320+/-0.015\n",
       "Test performance           0.872+/-0.015     0.670+/-0.037      0.303+/-0.015\n",
       "Optimal parameter(s)       150/3/0.1/0.1    150/3/0.1/0.05     150/3/0.1/0.05\n",
       "Optimal test performance   0.877+/-0.014     0.670+/-0.037      0.306+/-0.015"
      ]
     },
     "execution_count": 60,
     "metadata": {},
     "output_type": "execute_result"
    }
   ],
   "source": [
    "summary_lgb_rus"
   ]
  },
  {
   "cell_type": "markdown",
   "id": "a3860eb6-8f05-4a45-9e55-3e20529f4163",
   "metadata": {},
   "source": [
    "##### LGB SMOTE+RUS"
   ]
  },
  {
   "cell_type": "code",
   "execution_count": 61,
   "id": "7697490f-35da-4f12-b61d-3b77c9265952",
   "metadata": {},
   "outputs": [],
   "source": [
    "clf_lgb_smrus = LGBMClassifier()\n",
    "\n",
    "params_lgb_smrus = {f'clf__{i}': j for i, j in params_lgb.items()}\n",
    "params_lgb_smrus.update(\n",
    "    {\n",
    "        'clf__random_state':[seed],\n",
    "        'clf__verbose': [-1],\n",
    "        'smote__sampling_strategy':[0.1, 0.5],\n",
    "        'rus__sampling_strategy':[0.5, 1],\n",
    "        'smote__random_state':[seed],\n",
    "        'rus__random_state':[seed]\n",
    "    }\n",
    ")\n",
    "\n",
    "preprop_lgb_smrus = [\n",
    "    ('scaler', StandardScaler()),\n",
    "    ('smote', SMOTE(sampling_strategy=0.5, random_state=seed)),\n",
    "    ('rus', RandomUnderSampler(sampling_strategy=1.0,random_state=seed))\n",
    "]\n",
    "\n",
    "\n",
    "grid_lgb_smrus = grid_create(\n",
    "    clf_lgb_smrus, params_lgb_smrus, preprop_lgb_smrus,\n",
    "    search_type='grid', key_params_idxs=[0,1,2,5,6]\n",
    ")"
   ]
  },
  {
   "cell_type": "code",
   "execution_count": 62,
   "id": "c6975e3a-3994-446e-acda-5a0ed517728b",
   "metadata": {},
   "outputs": [],
   "source": [
    "t_perf = time.time()\n",
    "performance_lgb_smrus = model_performance_CV(data, **grid_lgb_smrus)\n",
    "exec_time_lgb_smrus = time.time() - t_perf"
   ]
  },
  {
   "cell_type": "code",
   "execution_count": 63,
   "id": "2206a520-399c-42b8-ad1c-bf58d7b539b6",
   "metadata": {},
   "outputs": [
    {
     "data": {
      "text/plain": [
       "53.32814407348633"
      ]
     },
     "execution_count": 63,
     "metadata": {},
     "output_type": "execute_result"
    }
   ],
   "source": [
    "exec_time_lgb_smrus"
   ]
  },
  {
   "cell_type": "code",
   "execution_count": 64,
   "id": "76666463-e19c-41e5-aace-0574aabdaff7",
   "metadata": {},
   "outputs": [],
   "source": [
    "summary_lgb_smrus = get_summary_performances(performance_lgb_smrus, metrics)"
   ]
  },
  {
   "cell_type": "code",
   "execution_count": 65,
   "id": "87c4f2db-8059-4398-9272-c7bc609526b9",
   "metadata": {},
   "outputs": [
    {
     "data": {
      "text/html": [
       "<div>\n",
       "<style scoped>\n",
       "    .dataframe tbody tr th:only-of-type {\n",
       "        vertical-align: middle;\n",
       "    }\n",
       "\n",
       "    .dataframe tbody tr th {\n",
       "        vertical-align: top;\n",
       "    }\n",
       "\n",
       "    .dataframe thead th {\n",
       "        text-align: right;\n",
       "    }\n",
       "</style>\n",
       "<table border=\"1\" class=\"dataframe\">\n",
       "  <thead>\n",
       "    <tr style=\"text-align: right;\">\n",
       "      <th></th>\n",
       "      <th>AUC ROC</th>\n",
       "      <th>Average Precision</th>\n",
       "      <th>Card Precision@100</th>\n",
       "    </tr>\n",
       "  </thead>\n",
       "  <tbody>\n",
       "    <tr>\n",
       "      <th>Best estimated parameters</th>\n",
       "      <td>150/3/0.1/0.1/1</td>\n",
       "      <td>150/3/0.1/0.5/0.5</td>\n",
       "      <td>150/3/0.1/0.5/0.5</td>\n",
       "    </tr>\n",
       "    <tr>\n",
       "      <th>Validation performance</th>\n",
       "      <td>0.864+/-0.013</td>\n",
       "      <td>0.661+/-0.010</td>\n",
       "      <td>0.318+/-0.016</td>\n",
       "    </tr>\n",
       "    <tr>\n",
       "      <th>Test performance</th>\n",
       "      <td>0.863+/-0.017</td>\n",
       "      <td>0.637+/-0.019</td>\n",
       "      <td>0.300+/-0.013</td>\n",
       "    </tr>\n",
       "    <tr>\n",
       "      <th>Optimal parameter(s)</th>\n",
       "      <td>150/3/0.1/0.1/0.5</td>\n",
       "      <td>150/3/0.1/0.1/0.5</td>\n",
       "      <td>150/3/0.1/0.1/0.5</td>\n",
       "    </tr>\n",
       "    <tr>\n",
       "      <th>Optimal test performance</th>\n",
       "      <td>0.864+/-0.015</td>\n",
       "      <td>0.646+/-0.027</td>\n",
       "      <td>0.303+/-0.017</td>\n",
       "    </tr>\n",
       "  </tbody>\n",
       "</table>\n",
       "</div>"
      ],
      "text/plain": [
       "                                     AUC ROC  Average Precision  \\\n",
       "Best estimated parameters    150/3/0.1/0.1/1  150/3/0.1/0.5/0.5   \n",
       "Validation performance         0.864+/-0.013      0.661+/-0.010   \n",
       "Test performance               0.863+/-0.017      0.637+/-0.019   \n",
       "Optimal parameter(s)       150/3/0.1/0.1/0.5  150/3/0.1/0.1/0.5   \n",
       "Optimal test performance       0.864+/-0.015      0.646+/-0.027   \n",
       "\n",
       "                          Card Precision@100  \n",
       "Best estimated parameters  150/3/0.1/0.5/0.5  \n",
       "Validation performance         0.318+/-0.016  \n",
       "Test performance               0.300+/-0.013  \n",
       "Optimal parameter(s)       150/3/0.1/0.1/0.5  \n",
       "Optimal test performance       0.303+/-0.017  "
      ]
     },
     "execution_count": 65,
     "metadata": {},
     "output_type": "execute_result"
    }
   ],
   "source": [
    "summary_lgb_smrus"
   ]
  },
  {
   "cell_type": "markdown",
   "id": "f045d480-f2b5-4a8b-82bf-7fd902f0461c",
   "metadata": {},
   "source": [
    "##### LGB Weighted"
   ]
  },
  {
   "cell_type": "code",
   "execution_count": 66,
   "id": "68ab2b91-e3b3-4014-8098-ff08aa836e4d",
   "metadata": {},
   "outputs": [],
   "source": [
    "clf_lgb_weight = LGBMClassifier()\n",
    "\n",
    "params_lgb_weight = {f'clf__{i}': j for i, j in params_lgb.items()}\n",
    "params_lgb_weight.update(\n",
    "    {\n",
    "        'clf__random_state':[seed],\n",
    "        'clf__verbose': [-1],\n",
    "        'clf__scale_pos_weight': [5, 10, 50, 1/ir]\n",
    "    }\n",
    ")\n",
    "\n",
    "preprop_lgb_weight = [\n",
    "    ('scaler', StandardScaler()),\n",
    "]\n",
    "\n",
    "grid_lgb_weight = grid_create(\n",
    "    clf_lgb_weight, params_lgb_weight, preprop_lgb_weight,\n",
    "    search_type='grid', key_params_idxs=[0,1,2,5]\n",
    ")"
   ]
  },
  {
   "cell_type": "code",
   "execution_count": 67,
   "id": "a98dafb5-a621-476d-82aa-19963accbd66",
   "metadata": {},
   "outputs": [],
   "source": [
    "t_perf = time.time()\n",
    "performance_lgb_weight = model_performance_CV(data, **grid_lgb_weight)\n",
    "exec_time_lgb_weight = time.time() - t_perf"
   ]
  },
  {
   "cell_type": "code",
   "execution_count": 68,
   "id": "7e90982a-1ca1-4fdd-94b3-33f429ca3fc8",
   "metadata": {},
   "outputs": [
    {
     "data": {
      "text/plain": [
       "50.84895706176758"
      ]
     },
     "execution_count": 68,
     "metadata": {},
     "output_type": "execute_result"
    }
   ],
   "source": [
    "exec_time_lgb_weight"
   ]
  },
  {
   "cell_type": "code",
   "execution_count": 69,
   "id": "6e249a80-ee48-46b2-a7e5-86ff991c63ca",
   "metadata": {},
   "outputs": [],
   "source": [
    "summary_lgb_weight = get_summary_performances(performance_lgb_weight, metrics)"
   ]
  },
  {
   "cell_type": "code",
   "execution_count": 70,
   "id": "0b4e441b-64ba-4986-9ab2-c1025086a0c6",
   "metadata": {},
   "outputs": [
    {
     "data": {
      "text/html": [
       "<div>\n",
       "<style scoped>\n",
       "    .dataframe tbody tr th:only-of-type {\n",
       "        vertical-align: middle;\n",
       "    }\n",
       "\n",
       "    .dataframe tbody tr th {\n",
       "        vertical-align: top;\n",
       "    }\n",
       "\n",
       "    .dataframe thead th {\n",
       "        text-align: right;\n",
       "    }\n",
       "</style>\n",
       "<table border=\"1\" class=\"dataframe\">\n",
       "  <thead>\n",
       "    <tr style=\"text-align: right;\">\n",
       "      <th></th>\n",
       "      <th>AUC ROC</th>\n",
       "      <th>Average Precision</th>\n",
       "      <th>Card Precision@100</th>\n",
       "    </tr>\n",
       "  </thead>\n",
       "  <tbody>\n",
       "    <tr>\n",
       "      <th>Best estimated parameters</th>\n",
       "      <td>150/3/0.1/5</td>\n",
       "      <td>150/3/0.1/5</td>\n",
       "      <td>150/3/0.1/5</td>\n",
       "    </tr>\n",
       "    <tr>\n",
       "      <th>Validation performance</th>\n",
       "      <td>0.860+/-0.008</td>\n",
       "      <td>0.629+/-0.029</td>\n",
       "      <td>0.317+/-0.016</td>\n",
       "    </tr>\n",
       "    <tr>\n",
       "      <th>Test performance</th>\n",
       "      <td>0.867+/-0.014</td>\n",
       "      <td>0.627+/-0.028</td>\n",
       "      <td>0.301+/-0.015</td>\n",
       "    </tr>\n",
       "    <tr>\n",
       "      <th>Optimal parameter(s)</th>\n",
       "      <td>150/3/0.1/50</td>\n",
       "      <td>150/3/0.1/5</td>\n",
       "      <td>150/3/0.1/10</td>\n",
       "    </tr>\n",
       "    <tr>\n",
       "      <th>Optimal test performance</th>\n",
       "      <td>0.869+/-0.015</td>\n",
       "      <td>0.627+/-0.028</td>\n",
       "      <td>0.301+/-0.015</td>\n",
       "    </tr>\n",
       "  </tbody>\n",
       "</table>\n",
       "</div>"
      ],
      "text/plain": [
       "                                 AUC ROC Average Precision Card Precision@100\n",
       "Best estimated parameters    150/3/0.1/5       150/3/0.1/5        150/3/0.1/5\n",
       "Validation performance     0.860+/-0.008     0.629+/-0.029      0.317+/-0.016\n",
       "Test performance           0.867+/-0.014     0.627+/-0.028      0.301+/-0.015\n",
       "Optimal parameter(s)        150/3/0.1/50       150/3/0.1/5       150/3/0.1/10\n",
       "Optimal test performance   0.869+/-0.015     0.627+/-0.028      0.301+/-0.015"
      ]
     },
     "execution_count": 70,
     "metadata": {},
     "output_type": "execute_result"
    }
   ],
   "source": [
    "summary_lgb_weight"
   ]
  },
  {
   "cell_type": "markdown",
   "id": "2f3d3651-120c-4873-a154-4bc4b6e16d0a",
   "metadata": {},
   "source": [
    "### Save Results"
   ]
  },
  {
   "cell_type": "code",
   "execution_count": 71,
   "id": "e8b320cc-06b0-44f8-9558-4227fe1fd3d8",
   "metadata": {},
   "outputs": [],
   "source": [
    "performance_dict = {\n",
    "    'Logistic Regression RUS': performance_lr_rus,\n",
    "    'Logistic Regression SMOTE+RUS': performance_lr_smrus,\n",
    "    'Logistic Regression Weighted': performance_lr_weight,\n",
    "    'Random Forest RUS': performance_rf_rus,\n",
    "    'Random Forest SMOTE+RUS': performance_rf_smrus,\n",
    "    'Random Forest Weighted': performance_rf_weight,\n",
    "    'XGBoost RUS': performance_xgb_rus,\n",
    "    'XGBoost SMOTE+RUS': performance_xgb_smrus,\n",
    "    'XGBoost Weighted': performance_xgb_weight,\n",
    "    'LightGBM RUS': performance_lgb_rus,\n",
    "    'LightGBM SMOTE+RUS': performance_lgb_smrus,\n",
    "    'LightGBM Weighted': performance_lgb_weight\n",
    "}"
   ]
  },
  {
   "cell_type": "code",
   "execution_count": 72,
   "id": "1b9fce86-55b3-48dc-9bc7-67092a809ed6",
   "metadata": {},
   "outputs": [],
   "source": [
    "filehandler = open('_performance_unbalanced.pkl', 'wb') \n",
    "pickle.dump(performance_dict, filehandler)\n",
    "filehandler.close()"
   ]
  },
  {
   "cell_type": "code",
   "execution_count": 73,
   "id": "dc4ea5c5-1a4e-4e88-a55a-068f16c78336",
   "metadata": {},
   "outputs": [],
   "source": [
    "summary_dict = {\n",
    "    'Logistic Regression RUS': summary_lr_rus,\n",
    "    'Logistic Regression SMOTE+RUS': summary_lr_smrus,\n",
    "    'Logistic Regression Weighted': summary_lr_weight,\n",
    "    'Random Forest RUS': summary_rf_rus,\n",
    "    'Random Forest SMOTE+RUS': summary_rf_smrus,\n",
    "    'Random Forest Weighted': summary_rf_weight,\n",
    "    'XGBoost RUS': summary_xgb_rus,\n",
    "    'XGBoost SMOTE+RUS': summary_xgb_smrus,\n",
    "    'XGBoost Weighted': summary_xgb_weight,\n",
    "    'LightGBM RUS': summary_lgb_rus,\n",
    "    'LightGBM SMOTE+RUS': summary_lgb_smrus,\n",
    "    'LightGBM Weighted': summary_lgb_weight\n",
    "}"
   ]
  },
  {
   "cell_type": "code",
   "execution_count": 74,
   "id": "facd5752-eb06-4114-a63d-bc70991e9e52",
   "metadata": {},
   "outputs": [],
   "source": [
    "filehandler = open('_summary_unbalanced.pkl', 'wb') \n",
    "pickle.dump(summary_dict, filehandler)\n",
    "filehandler.close()"
   ]
  },
  {
   "cell_type": "code",
   "execution_count": 75,
   "id": "cb81c5d8-0c73-49d0-a193-3a97d96aa2de",
   "metadata": {},
   "outputs": [],
   "source": [
    "time_exec_dict = {\n",
    "    'Logistic Regression RUS': exec_time_lr_rus,\n",
    "    'Logistic Regression SMOTE+RUS': exec_time_lr_smrus,\n",
    "    'Logistic Regression Weighted': exec_time_lr_weight,\n",
    "    'Random Forest RUS': exec_time_rf_rus,\n",
    "    'Random Forest SMOTE+RUS': exec_time_rf_smrus,\n",
    "    'Random Forest Weighted': exec_time_rf_weight,\n",
    "    'XGBoost RUS': exec_time_xgb_rus,\n",
    "    'XGBoost SMOTE+RUS': exec_time_xgb_smrus,\n",
    "    'XGBoost Weighted': exec_time_xgb_weight,\n",
    "    'LightGBM RUS': exec_time_lgb_rus,\n",
    "    'LightGBM SMOTE+RUS': exec_time_lgb_smrus,\n",
    "    'LightGBM Weighted': exec_time_lgb_weight\n",
    "}"
   ]
  },
  {
   "cell_type": "code",
   "execution_count": 76,
   "id": "0002347a-f0bf-446a-937e-6accf90c3248",
   "metadata": {},
   "outputs": [],
   "source": [
    "filehandler = open('_time_exec_unbalanced.pkl', 'wb') \n",
    "pickle.dump(time_exec_dict, filehandler)\n",
    "filehandler.close()"
   ]
  },
  {
   "cell_type": "code",
   "execution_count": 77,
   "id": "b51bab94-b2f6-47e6-b58d-e7057e587938",
   "metadata": {},
   "outputs": [
    {
     "name": "stdout",
     "output_type": "stream",
     "text": [
      "Execution time: 0:47:48\n"
     ]
    }
   ],
   "source": [
    "e_time = str(dt.timedelta(seconds=np.round(time.time() - t_script)))\n",
    "print('Execution time: {}'.format(e_time))"
   ]
  }
 ],
 "metadata": {
  "kernelspec": {
   "display_name": "Python 3 (ipykernel)",
   "language": "python",
   "name": "python3"
  },
  "language_info": {
   "codemirror_mode": {
    "name": "ipython",
    "version": 3
   },
   "file_extension": ".py",
   "mimetype": "text/x-python",
   "name": "python",
   "nbconvert_exporter": "python",
   "pygments_lexer": "ipython3",
   "version": "3.11.4"
  }
 },
 "nbformat": 4,
 "nbformat_minor": 5
}
